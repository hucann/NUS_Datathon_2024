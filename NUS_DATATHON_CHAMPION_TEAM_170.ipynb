{
  "cells": [
    {
      "cell_type": "markdown",
      "metadata": {
        "id": "dYKzKBrvH69h"
      },
      "source": [
        "##### The cell below is for you to keep track of the libraries used and install those libraries quickly\n",
        "##### Ensure that the proper library names are used and the syntax of `%pip install PACKAGE_NAME` is followed"
      ]
    },
    {
      "cell_type": "code",
      "execution_count": null,
      "metadata": {
        "id": "SdwIDmQ1H69j"
      },
      "outputs": [],
      "source": [
        "#%pip install pandas\n",
        "#%pip install matplotlib\n",
        "# add commented pip installation lines for packages used as shown above for ease of testing\n",
        "# the line should be of the format %pip install PACKAGE_NAME"
      ]
    },
    {
      "cell_type": "markdown",
      "metadata": {
        "id": "FhskRZ1LH69k"
      },
      "source": [
        "## **DO NOT CHANGE** the filepath variable\n",
        "##### Instead, create a folder named 'data' in your current working directory and\n",
        "##### have the .csv file inside that. A relative path *must* be used when loading data into pandas"
      ]
    },
    {
      "cell_type": "code",
      "execution_count": null,
      "metadata": {
        "id": "CQAyzwGMH69l"
      },
      "outputs": [],
      "source": [
        "# Can have as many cells as you want for code\n",
        "import pandas as pd\n",
        "filepath = \"./data/catA_train.csv\"\n",
        "# the initialised filepath MUST be a relative path to a folder named data that contains the parquet file"
      ]
    },
    {
      "cell_type": "markdown",
      "metadata": {
        "id": "PZNzeQANH69m"
      },
      "source": [
        "### **ALL** Code for machine learning and dataset analysis should be entered below.\n",
        "##### Ensure that your code is clear and readable.\n",
        "##### Comments and Markdown notes are advised to direct attention to pieces of code you deem useful."
      ]
    },
    {
      "cell_type": "markdown",
      "source": [
        "\n",
        "# **1. Data preparation/preprocessing**"
      ],
      "metadata": {
        "id": "qSo8qfvGIiNu"
      }
    },
    {
      "cell_type": "code",
      "source": [
        "#import data\n",
        "df1 = pd.read_csv(filepath)"
      ],
      "metadata": {
        "id": "5y7KI0IuMLg_"
      },
      "execution_count": null,
      "outputs": []
    },
    {
      "cell_type": "code",
      "source": [
        "# find the number of rows and columns in our dataset\n",
        "print(df1.shape)\n",
        "\n",
        "# find the names of columns in our dataset\n",
        "print(df1.columns)"
      ],
      "metadata": {
        "id": "LnbWHidtDDnw"
      },
      "execution_count": null,
      "outputs": []
    },
    {
      "cell_type": "code",
      "source": [
        "# check for the number of missing values in the dataframe\n",
        "df1.isna().sum()"
      ],
      "metadata": {
        "id": "7ce1myppDJgc"
      },
      "execution_count": null,
      "outputs": []
    },
    {
      "cell_type": "markdown",
      "source": [
        "## 1.1 Dealing with Missing Data"
      ],
      "metadata": {
        "id": "1uncFTO9LnRR"
      }
    },
    {
      "cell_type": "markdown",
      "source": [
        "\n",
        "\n",
        "*   *Remove*\n",
        "\n",
        "    As indicated by the feature ranking results (Section 2.2.1), both \"Latitude\" and \"Longitude\" are important features. Considering its substantial potential impact on sales, rows with missing \"Latitude\" and \"Longitude\" values should, in our perspective, be excluded from the modelling process. Additionally, the number of missing values of these two features (120) is negligible in contrast to the substantial total sample size (29,182). Consequently, we find it appropriate to address this by simply removing rows with missing \"Latitude\" or \"Longitude\" values.\n",
        "\n",
        "\n",
        "\n"
      ],
      "metadata": {
        "id": "6EHXrUF8U11v"
      }
    },
    {
      "cell_type": "code",
      "source": [
        "df2 = df1.dropna(subset=[\"LATITUDE\", \"LONGITUDE\"])"
      ],
      "metadata": {
        "id": "XgbBTTwmIixO"
      },
      "execution_count": null,
      "outputs": []
    },
    {
      "cell_type": "markdown",
      "source": [
        "\n",
        "\n",
        "*   *Impute with Domain Knowledge*\n",
        "\n",
        "    Nevertheless, features like \"Employees (Single Site)\" do have a significant number of missing values. Simply discarding these features with missing values might result in information loss, and thus distort the original characteristics of the data. This might lead to a loss of potentially meaningful patterns or insights that could have been derived from those missing data points, adversely affecting our modeling process. Therefore, we decided to delve into the dataset and identify potential patterns that could assist in imputing such missing values, complemented by our domain knowledge.\n",
        "\n",
        "\n",
        "\n"
      ],
      "metadata": {
        "id": "RSBC6eJTUt8D"
      }
    },
    {
      "cell_type": "code",
      "source": [
        "# Analysis\n",
        "\n",
        "df_testing = df2.dropna(subset=[\"Employees (Single Site)\", \"Employees (Domestic Ultimate Total)\"])\n",
        "\n",
        "# When the company is its domestic ultimate company\n",
        "df_testing = df_testing[data['Is Domestic Ultimate'] == 1]\n",
        "\n",
        "# Data with employees(single site) being equal to employees(domestic ultimate total)\n",
        "df_testing1 = df_testing[df_testing['Employees (Single Site)'] == df_testing['Employees (Domestic Ultimate Total)']]\n",
        "\n",
        "print(df_testing1.shape)\n"
      ],
      "metadata": {
        "id": "UAR7uUquMzr-"
      },
      "execution_count": null,
      "outputs": []
    },
    {
      "cell_type": "code",
      "source": [
        "# Data with employees(single site) not being equal to employees(domestic ultimate total)\n",
        "df_testing2 = df_testing[df_testing['Employees (Single Site)'] != df_testing['Employees (Domestic Ultimate Total)']]\n",
        "\n",
        "print(df_testing2.shape)"
      ],
      "metadata": {
        "id": "fWkz14ccRc-Q"
      },
      "execution_count": null,
      "outputs": []
    },
    {
      "cell_type": "markdown",
      "source": [
        "  This demonstrates that, when the company is its domestic ultimate company, \"Employees(Single Site)\" would be most likely equal to \"Employees(Domestic Ultimate Total)\".\n",
        "\n",
        "  This can be explained with domain knowledge. \"Employees(Domestic Ultimate Total)\" is defined as the employees for the domestic Ultimate parent entities while \"Employees(Single Site)\" is defined as the number of employees at a single location. When the company is the domestic ultimate company, its employee count, \"Employees(Single Site)\", would include employees from all of its subsidiaries and thus be equal to \"Employees(Domestic Ultimate Total)\"."
      ],
      "metadata": {
        "id": "WgEMF4-xRoTj"
      }
    },
    {
      "cell_type": "code",
      "source": [
        "# Impute the missing data\n",
        "condition_mask = df2['Is Domestic Ultimate'] == 1\n",
        "df2.loc[condition_mask, 'Employees (Single Site)'] = df2.loc[condition_mask, 'Employees (Single Site)'].fillna(df2.loc[condition_mask, 'Employees (Domestic Ultimate Total)'])\n",
        "df2 = df2.dropna(subset=['Employees (Single Site)'])\n"
      ],
      "metadata": {
        "id": "UtXcgLJyQJaI"
      },
      "execution_count": null,
      "outputs": []
    },
    {
      "cell_type": "markdown",
      "source": [
        "\n",
        "\n",
        "*   *KNN Imputation*\n",
        "\n",
        "    The K-Nearest Neighbors (KNN) imputer is well-suited for imputing missing values in our dataset due to its localized imputation approach, which considers neighboring data points to estimate missing values. Unlike global imputation methods, KNN adapts to the distribution of the data and can handle both numerical and categorical features, making it versatile. This applies to our dataset with both numerical and categorical features. It is particularly effective in our dataset where relationships between variables are non-linear, and there is no assumption of normality in the data. The parameter tuning feature allows flexibility in choosing the number of neighbors, and it aims to preserve local relationships, making it suitable for datasets with non-random patterns of missing values. As detailed in the subsequent evaluation section, the choice of k = 5 yields the most effective imputation results and is thus selected.\n",
        "\n",
        "\n"
      ],
      "metadata": {
        "id": "uXNTYfttU-dK"
      }
    },
    {
      "cell_type": "code",
      "source": [
        "# See code under Section 3"
      ],
      "metadata": {
        "id": "tHfofz6WVDCM"
      },
      "execution_count": null,
      "outputs": []
    },
    {
      "cell_type": "markdown",
      "source": [
        "## 1.2 Data encoding"
      ],
      "metadata": {
        "id": "-IK0NXf8MFEd"
      }
    },
    {
      "cell_type": "markdown",
      "source": [
        "\n",
        "\n",
        "*   *Encode SIC (Label Encoder)*\n",
        "\n",
        "Upon evaluation with various metrics and comparing the respective R-squared values with threshold = [7,14], threshold = 11 generated the largest R-squared score and is used for encoding.\n"
      ],
      "metadata": {
        "id": "5-ELqFvaVb_A"
      }
    },
    {
      "cell_type": "code",
      "source": [
        "sic_code_frequency = df2['SIC Code'].value_counts()\n",
        "threshold = 11\n",
        "low_frequency_sic_codes = sic_code_frequency[sic_code_frequency < threshold].index\n",
        "df2['SIC Code'] = df2['SIC Code'].replace(low_frequency_sic_codes, 'Others')\n",
        "df2['SIC Code'] = df2['SIC Code'].astype(str)\n",
        "\n",
        "from sklearn.preprocessing import LabelEncoder\n",
        "label_encoder = LabelEncoder()\n",
        "df2['SIC Code'] = label_encoder.fit_transform(df2['SIC Code'])"
      ],
      "metadata": {
        "id": "HTxq4O8HMHCZ"
      },
      "execution_count": null,
      "outputs": []
    },
    {
      "cell_type": "markdown",
      "source": [
        "\n",
        "\n",
        "*   *Encode \"Entity Type\"*\n",
        "\n",
        "    We attempted both One-Hot Encoding and Label Encoder for \"Entity Type\". However, during the Feature Ranking analysis (Section 2.2.1), \"Entity Type\" is proven to be a less important feature. Upon testing the models, we realised that despite being encoded, \"Entity Type\" would only adversely affect our model performance. Thus, we decided to exclude \"Entity Type\".\n",
        "\n",
        "\n"
      ],
      "metadata": {
        "id": "E5x0gigNZFTj"
      }
    },
    {
      "cell_type": "code",
      "source": [
        "# Analysis\n",
        "entity_type_counts = df2['Entity Type'].value_counts()\n",
        "print(entity_type_counts)"
      ],
      "metadata": {
        "id": "A2y48EfbZI-r"
      },
      "execution_count": null,
      "outputs": []
    },
    {
      "cell_type": "code",
      "source": [
        "df2['Entity Type'] = label_encoder.fit_transform(df2['Entity Type'])"
      ],
      "metadata": {
        "id": "ffMc0BkKZL97"
      },
      "execution_count": null,
      "outputs": []
    },
    {
      "cell_type": "markdown",
      "source": [
        "# **2. EDA**"
      ],
      "metadata": {
        "id": "O6uKQTM3LZ28"
      }
    },
    {
      "cell_type": "markdown",
      "source": [
        "## 2.1 Feature Engineering"
      ],
      "metadata": {
        "id": "kgxcwppSL0aP"
      }
    },
    {
      "cell_type": "markdown",
      "source": [
        "### 2.1.1 Data Type Conversion"
      ],
      "metadata": {
        "id": "wjT_eK4ANqRl"
      }
    },
    {
      "cell_type": "markdown",
      "source": [
        "It is essential to convert feature with originally integer values to boolean form so that models can handle the data."
      ],
      "metadata": {
        "id": "TDl_uUkqznk-"
      }
    },
    {
      "cell_type": "code",
      "source": [
        "# Convert 1/0 to TRUE/FALSE\n",
        "df2['Is Domestic Ultimate'] = df2['Is Domestic Ultimate'] == 1\n",
        "df2['Is Global Ultimate'] = df2['Is Global Ultimate'] == 1"
      ],
      "metadata": {
        "id": "xXG7mOJ_L2tU",
        "colab": {
          "base_uri": "https://localhost:8080/",
          "height": 208
        },
        "outputId": "f6fbac06-732a-4ab7-d2b1-1ad9d8125575"
      },
      "execution_count": null,
      "outputs": [
        {
          "output_type": "error",
          "ename": "NameError",
          "evalue": "name 'df3' is not defined",
          "traceback": [
            "\u001b[0;31m---------------------------------------------------------------------------\u001b[0m",
            "\u001b[0;31mNameError\u001b[0m                                 Traceback (most recent call last)",
            "\u001b[0;32m<ipython-input-4-5b7c00a08127>\u001b[0m in \u001b[0;36m<cell line: 2>\u001b[0;34m()\u001b[0m\n\u001b[1;32m      1\u001b[0m \u001b[0;31m# Convert 1/0 to TRUE/FALSE\u001b[0m\u001b[0;34m\u001b[0m\u001b[0;34m\u001b[0m\u001b[0m\n\u001b[0;32m----> 2\u001b[0;31m \u001b[0mdf3\u001b[0m\u001b[0;34m[\u001b[0m\u001b[0;34m'Is Domestic Ultimate'\u001b[0m\u001b[0;34m]\u001b[0m \u001b[0;34m=\u001b[0m \u001b[0mdf3\u001b[0m\u001b[0;34m[\u001b[0m\u001b[0;34m'Is Domestic Ultimate'\u001b[0m\u001b[0;34m]\u001b[0m \u001b[0;34m==\u001b[0m \u001b[0;36m1\u001b[0m\u001b[0;34m\u001b[0m\u001b[0;34m\u001b[0m\u001b[0m\n\u001b[0m\u001b[1;32m      3\u001b[0m \u001b[0mdf3\u001b[0m\u001b[0;34m[\u001b[0m\u001b[0;34m'Is Global Ultimate'\u001b[0m\u001b[0;34m]\u001b[0m \u001b[0;34m=\u001b[0m \u001b[0mdf3\u001b[0m\u001b[0;34m[\u001b[0m\u001b[0;34m'Is Global Ultimate'\u001b[0m\u001b[0;34m]\u001b[0m \u001b[0;34m==\u001b[0m \u001b[0;36m1\u001b[0m\u001b[0;34m\u001b[0m\u001b[0;34m\u001b[0m\u001b[0m\n",
            "\u001b[0;31mNameError\u001b[0m: name 'df3' is not defined"
          ]
        }
      ]
    },
    {
      "cell_type": "markdown",
      "source": [
        "### 2.1.2 Data Cleaning (only keep ownership == private)"
      ],
      "metadata": {
        "id": "xOpfVrCnN_MI"
      }
    },
    {
      "cell_type": "code",
      "source": [
        "# Analysis\n",
        "ownership_type_counts = df2['Ownership Type'].value_counts()\n",
        "print(ownership_type_counts)"
      ],
      "metadata": {
        "id": "elfJ5AoEOJ5s",
        "colab": {
          "base_uri": "https://localhost:8080/",
          "height": 208
        },
        "outputId": "a768528a-268d-438e-b3da-9d645f7b8683"
      },
      "execution_count": null,
      "outputs": [
        {
          "output_type": "error",
          "ename": "NameError",
          "evalue": "name 'df2' is not defined",
          "traceback": [
            "\u001b[0;31m---------------------------------------------------------------------------\u001b[0m",
            "\u001b[0;31mNameError\u001b[0m                                 Traceback (most recent call last)",
            "\u001b[0;32m<ipython-input-5-f95ba725b147>\u001b[0m in \u001b[0;36m<cell line: 2>\u001b[0;34m()\u001b[0m\n\u001b[1;32m      1\u001b[0m \u001b[0;31m# Analysis\u001b[0m\u001b[0;34m\u001b[0m\u001b[0;34m\u001b[0m\u001b[0m\n\u001b[0;32m----> 2\u001b[0;31m \u001b[0mownership_type_counts\u001b[0m \u001b[0;34m=\u001b[0m \u001b[0mdf2\u001b[0m\u001b[0;34m[\u001b[0m\u001b[0;34m'Ownership Type'\u001b[0m\u001b[0;34m]\u001b[0m\u001b[0;34m.\u001b[0m\u001b[0mvalue_counts\u001b[0m\u001b[0;34m(\u001b[0m\u001b[0;34m)\u001b[0m\u001b[0;34m\u001b[0m\u001b[0;34m\u001b[0m\u001b[0m\n\u001b[0m\u001b[1;32m      3\u001b[0m \u001b[0mprint\u001b[0m\u001b[0;34m(\u001b[0m\u001b[0mownership_type_counts\u001b[0m\u001b[0;34m)\u001b[0m\u001b[0;34m\u001b[0m\u001b[0;34m\u001b[0m\u001b[0m\n",
            "\u001b[0;31mNameError\u001b[0m: name 'df2' is not defined"
          ]
        }
      ]
    },
    {
      "cell_type": "markdown",
      "source": [
        "This shows that the majority of companies are privately owned. Thus, we decided to only keep such companies and drop the rest."
      ],
      "metadata": {
        "id": "Z8ejWLkfIdGD"
      }
    },
    {
      "cell_type": "code",
      "source": [
        "# Clean Ownership Type\n",
        "df2 = df2.drop(df2[df2['Ownership Type'] != \"Private\"].index)"
      ],
      "metadata": {
        "id": "y4NTQwJjW5X8"
      },
      "execution_count": null,
      "outputs": []
    },
    {
      "cell_type": "markdown",
      "source": [
        "### 2.1.3 Create Artificial Features (imports/exports)"
      ],
      "metadata": {
        "id": "eP6gcyhTXY8u"
      }
    },
    {
      "cell_type": "code",
      "source": [
        "# Analysis\n",
        "imports_exports_counts = df2['Import/Export Status'].value_counts()\n",
        "print(imports_exports_counts)"
      ],
      "metadata": {
        "id": "kSepkjotXieo"
      },
      "execution_count": null,
      "outputs": []
    },
    {
      "cell_type": "code",
      "source": [
        "# Create new feature\n",
        "df2['Import/Export Status_Missing'] = df2['Import/Export Status'].isna()"
      ],
      "metadata": {
        "id": "c2LBCZByXxkP"
      },
      "execution_count": null,
      "outputs": []
    },
    {
      "cell_type": "markdown",
      "source": [
        "Instead of having 4 categories for \"Import/Export Status\", we created a new feautre called \"Import/Export Status_Missing\". The column contains boolan value 1 (Import/Export Status Missing) and 0 (Import/Export Status Not Missing)."
      ],
      "metadata": {
        "id": "Ds05h4zsRJtL"
      }
    },
    {
      "cell_type": "code",
      "source": [],
      "metadata": {
        "id": "kGwdYLuntiK5"
      },
      "execution_count": null,
      "outputs": []
    },
    {
      "cell_type": "markdown",
      "source": [
        "\n",
        "\n",
        "*   *Insights*\n",
        "\n"
      ],
      "metadata": {
        "id": "-KZJF3tuguXU"
      }
    },
    {
      "cell_type": "markdown",
      "source": [
        "Upon examining the \"Import/Export Status\" variable, 22,569 missing values were identified out of a total of 29,182 entries. A more in-depth examination of the missing values revealed that 7,527 companies were associated with the SIC code 6719, constituting approximately one-third of the entire dataset with missing \"Import/Export Status\".\n",
        "\n",
        "Closer inspection of the SIC code 6719 revealed that these 7,527 companies primarily function as holding companies, implying that they do not directly engage in daily import and export activities; instead, they derive profits through the acquisition or control of ownership interests in other companies.\n"
      ],
      "metadata": {
        "id": "s3q-jBSmhQzp"
      }
    },
    {
      "cell_type": "markdown",
      "source": [
        "## 2.2 Feature Selection"
      ],
      "metadata": {
        "id": "li6qhQUOLx2Q"
      }
    },
    {
      "cell_type": "markdown",
      "source": [
        "*   *Drop non-numeric features*"
      ],
      "metadata": {
        "id": "gXVss4o5ZRD5"
      }
    },
    {
      "cell_type": "code",
      "source": [
        "columns_to_drop = ['Ownership Type', \"Company Status (Active/Inactive)\",'Import/Export Status',\"error\", \"Fiscal Year End\", \"Global Ultimate Company\", \"Domestic Ultimate Company\", \"Web Address\", \"Square Footage\", \"Company Description\", \"PostCode\", \"8-Digit SIC Code\", \"8-Digit SIC Description\", \"AccountID\",\n",
        "                   \"Parent Company\", \"City\", \"Country\", \"Address\", \"Address1\", \"Industry\", \"Region\", \"Parent Country\", \"Global Ultimate Country\", \"Company\"]\n",
        "df3 = df2.drop(columns=[col for col in columns_to_drop if col in df2.columns], errors='ignore')"
      ],
      "metadata": {
        "id": "BbxoPEHFZYar"
      },
      "execution_count": null,
      "outputs": []
    },
    {
      "cell_type": "markdown",
      "source": [
        "###  2.2.1 Feature Ranking"
      ],
      "metadata": {
        "id": "fzbB56_WNOCa"
      }
    },
    {
      "cell_type": "markdown",
      "source": [
        "\n",
        "\n",
        "*   *Correlation Matrix*\n",
        "\n",
        "\n"
      ],
      "metadata": {
        "id": "CTAouNmLViJ6"
      }
    },
    {
      "cell_type": "code",
      "source": [
        "correlation_matrix = df3.corr()\n",
        "correlation_df = pd.DataFrame(correlation_matrix)\n",
        "correlation_df"
      ],
      "metadata": {
        "id": "-u7Lx1lPLcEz"
      },
      "execution_count": null,
      "outputs": []
    },
    {
      "cell_type": "markdown",
      "source": [
        "*   *Heap Map*\n"
      ],
      "metadata": {
        "id": "_blgIgqiU2LS"
      }
    },
    {
      "cell_type": "code",
      "source": [
        "import seaborn as sns\n",
        "import matplotlib.pyplot as plt\n",
        "import numpy as np\n",
        "\n",
        "# Calculate the correlation matrix\n",
        "corr_matrix = df3.corr()\n",
        "\n",
        "# Create a mask for the upper triangle\n",
        "mask = np.triu(np.ones_like(corr_matrix, dtype=bool))\n",
        "\n",
        "# Set up the matplotlib figure\n",
        "plt.figure(figsize=(12, 10))\n",
        "\n",
        "# Draw the heatmap with the mask and correct aspect ratio, using \"coolwarm\" colormap\n",
        "sns.heatmap(corr_matrix, mask=mask, cmap=\"coolwarm\", vmax=.3, center=0,\n",
        "            square=True, linewidths=.5, cbar_kws={\"shrink\": .5})\n",
        "\n",
        "plt.show()"
      ],
      "metadata": {
        "id": "Pc1AIxdhUvNK"
      },
      "execution_count": null,
      "outputs": []
    },
    {
      "cell_type": "markdown",
      "source": [
        "From the correlation table and heat map, we cannot observe significant correlation between domestic sales and certain features as it shows an even distribution of correlation across factors. Hence, we decided to implement another two methods."
      ],
      "metadata": {
        "id": "FiwWxAAadrxH"
      }
    },
    {
      "cell_type": "markdown",
      "source": [
        "\n",
        "\n",
        "*   *Random Forest Regressor*\n",
        "\n",
        "\n"
      ],
      "metadata": {
        "id": "f2LXHKcAVl1v"
      }
    },
    {
      "cell_type": "markdown",
      "source": [
        "Random Forest is an ensemble learning method that consists multiple decision trees. Each decision tree is constructed using a subset of the data and a subset of features at each split. It aims to maximize the reduction in impurity at each split. As a result, features that are selected at the top of the trees are in general more important than features that are selected at the end nodes of the trees, as the top splits generally lead to larger information gains.\n"
      ],
      "metadata": {
        "id": "2mBtlwBtdzrR"
      }
    },
    {
      "cell_type": "code",
      "source": [
        "# Train test split\n",
        "from sklearn.model_selection import train_test_split\n",
        "\n",
        "X = df3.drop('Sales (Domestic Ultimate Total USD)', axis=1)\n",
        "y = df3['Sales (Domestic Ultimate Total USD)']\n",
        "columns_name = X.columns\n",
        "\n",
        "X_train, X_test, y_train, y_test = train_test_split(X, y, test_size=0.2, random_state=42)\n",
        "\n",
        "# KNN Imputer\n",
        "from sklearn.impute import KNNImputer\n",
        "imputer = KNNImputer(n_neighbors = 5)\n",
        "\n",
        "X_train = imputer.fit_transform(X_train)\n",
        "X_train = pd.DataFrame(X_train, columns = columns_name)\n",
        "\n",
        "X_test = imputer.transform(X_test)\n",
        "X_test = pd.DataFrame(X_test, columns = columns_name)\n",
        "\n",
        "############################################\n",
        "# Feature ranking with RandomForestRegressor\n",
        "from sklearn.ensemble import RandomForestRegressor\n",
        "import matplotlib.pyplot as plt\n",
        "\n",
        "forest = RandomForestRegressor(n_estimators=100, random_state=42)\n",
        "forest.fit(X_train, y_train)\n",
        "importances = forest.feature_importances_\n",
        "\n",
        "# Create a DataFrame with feature names and importances, sorted by importance in descending order\n",
        "X = pd.DataFrame(X, columns = df3.columns)\n",
        "feature_importance_df = pd.DataFrame({'Feature': X_train.columns, 'Importance': importances})\n",
        "feature_importance_df = feature_importance_df.sort_values(by='Importance', ascending=False)\n",
        "\n",
        "# Plot the feature importances\n",
        "fig, ax = plt.subplots()\n",
        "feature_importance_df.plot.bar(x='Feature', y='Importance', ax=ax)\n",
        "ax.set_title(\"Feature Importances\")\n",
        "ax.set_ylabel(\"Importance\")\n",
        "ax.set_xticklabels(feature_importance_df['Feature'], rotation=45, ha='right')\n",
        "fig.tight_layout()\n",
        "\n",
        "plt.show()"
      ],
      "metadata": {
        "id": "7L9kyZUwNUBy",
        "colab": {
          "base_uri": "https://localhost:8080/",
          "height": 417
        },
        "outputId": "14370d7e-f70c-45ce-845b-20a4de81de7b"
      },
      "execution_count": null,
      "outputs": [
        {
          "output_type": "error",
          "ename": "ValueError",
          "evalue": "Shape of passed values is (25294, 11), indices imply (25294, 12)",
          "traceback": [
            "\u001b[0;31m---------------------------------------------------------------------------\u001b[0m",
            "\u001b[0;31mValueError\u001b[0m                                Traceback (most recent call last)",
            "\u001b[0;32m<ipython-input-116-7b780eadf8f2>\u001b[0m in \u001b[0;36m<cell line: 9>\u001b[0;34m()\u001b[0m\n\u001b[1;32m      7\u001b[0m \u001b[0;34m\u001b[0m\u001b[0m\n\u001b[1;32m      8\u001b[0m \u001b[0;31m# Create a DataFrame with feature names and importances, sorted by importance in descending order\u001b[0m\u001b[0;34m\u001b[0m\u001b[0;34m\u001b[0m\u001b[0m\n\u001b[0;32m----> 9\u001b[0;31m \u001b[0mX\u001b[0m \u001b[0;34m=\u001b[0m \u001b[0mpd\u001b[0m\u001b[0;34m.\u001b[0m\u001b[0mDataFrame\u001b[0m\u001b[0;34m(\u001b[0m\u001b[0mX\u001b[0m\u001b[0;34m,\u001b[0m \u001b[0mcolumns\u001b[0m \u001b[0;34m=\u001b[0m \u001b[0mdf3\u001b[0m\u001b[0;34m.\u001b[0m\u001b[0mcolumns\u001b[0m\u001b[0;34m)\u001b[0m\u001b[0;34m\u001b[0m\u001b[0;34m\u001b[0m\u001b[0m\n\u001b[0m\u001b[1;32m     10\u001b[0m \u001b[0;31m# Create a DataFrame with feature names and importances, sorted by importance in descending order\u001b[0m\u001b[0;34m\u001b[0m\u001b[0;34m\u001b[0m\u001b[0m\n\u001b[1;32m     11\u001b[0m \u001b[0mfeature_importance_df\u001b[0m \u001b[0;34m=\u001b[0m \u001b[0mpd\u001b[0m\u001b[0;34m.\u001b[0m\u001b[0mDataFrame\u001b[0m\u001b[0;34m(\u001b[0m\u001b[0;34m{\u001b[0m\u001b[0;34m'Feature'\u001b[0m\u001b[0;34m:\u001b[0m \u001b[0mdf3\u001b[0m\u001b[0;34m.\u001b[0m\u001b[0mcolumns\u001b[0m\u001b[0;34m,\u001b[0m \u001b[0;34m'Importance'\u001b[0m\u001b[0;34m:\u001b[0m \u001b[0mimportances\u001b[0m\u001b[0;34m}\u001b[0m\u001b[0;34m)\u001b[0m\u001b[0;34m\u001b[0m\u001b[0;34m\u001b[0m\u001b[0m\n",
            "\u001b[0;32m/usr/local/lib/python3.10/dist-packages/pandas/core/frame.py\u001b[0m in \u001b[0;36m__init__\u001b[0;34m(self, data, index, columns, dtype, copy)\u001b[0m\n\u001b[1;32m    720\u001b[0m                 )\n\u001b[1;32m    721\u001b[0m             \u001b[0;32melse\u001b[0m\u001b[0;34m:\u001b[0m\u001b[0;34m\u001b[0m\u001b[0;34m\u001b[0m\u001b[0m\n\u001b[0;32m--> 722\u001b[0;31m                 mgr = ndarray_to_mgr(\n\u001b[0m\u001b[1;32m    723\u001b[0m                     \u001b[0mdata\u001b[0m\u001b[0;34m,\u001b[0m\u001b[0;34m\u001b[0m\u001b[0;34m\u001b[0m\u001b[0m\n\u001b[1;32m    724\u001b[0m                     \u001b[0mindex\u001b[0m\u001b[0;34m,\u001b[0m\u001b[0;34m\u001b[0m\u001b[0;34m\u001b[0m\u001b[0m\n",
            "\u001b[0;32m/usr/local/lib/python3.10/dist-packages/pandas/core/internals/construction.py\u001b[0m in \u001b[0;36mndarray_to_mgr\u001b[0;34m(values, index, columns, dtype, copy, typ)\u001b[0m\n\u001b[1;32m    347\u001b[0m     )\n\u001b[1;32m    348\u001b[0m \u001b[0;34m\u001b[0m\u001b[0m\n\u001b[0;32m--> 349\u001b[0;31m     \u001b[0m_check_values_indices_shape_match\u001b[0m\u001b[0;34m(\u001b[0m\u001b[0mvalues\u001b[0m\u001b[0;34m,\u001b[0m \u001b[0mindex\u001b[0m\u001b[0;34m,\u001b[0m \u001b[0mcolumns\u001b[0m\u001b[0;34m)\u001b[0m\u001b[0;34m\u001b[0m\u001b[0;34m\u001b[0m\u001b[0m\n\u001b[0m\u001b[1;32m    350\u001b[0m \u001b[0;34m\u001b[0m\u001b[0m\n\u001b[1;32m    351\u001b[0m     \u001b[0;32mif\u001b[0m \u001b[0mtyp\u001b[0m \u001b[0;34m==\u001b[0m \u001b[0;34m\"array\"\u001b[0m\u001b[0;34m:\u001b[0m\u001b[0;34m\u001b[0m\u001b[0;34m\u001b[0m\u001b[0m\n",
            "\u001b[0;32m/usr/local/lib/python3.10/dist-packages/pandas/core/internals/construction.py\u001b[0m in \u001b[0;36m_check_values_indices_shape_match\u001b[0;34m(values, index, columns)\u001b[0m\n\u001b[1;32m    418\u001b[0m         \u001b[0mpassed\u001b[0m \u001b[0;34m=\u001b[0m \u001b[0mvalues\u001b[0m\u001b[0;34m.\u001b[0m\u001b[0mshape\u001b[0m\u001b[0;34m\u001b[0m\u001b[0;34m\u001b[0m\u001b[0m\n\u001b[1;32m    419\u001b[0m         \u001b[0mimplied\u001b[0m \u001b[0;34m=\u001b[0m \u001b[0;34m(\u001b[0m\u001b[0mlen\u001b[0m\u001b[0;34m(\u001b[0m\u001b[0mindex\u001b[0m\u001b[0;34m)\u001b[0m\u001b[0;34m,\u001b[0m \u001b[0mlen\u001b[0m\u001b[0;34m(\u001b[0m\u001b[0mcolumns\u001b[0m\u001b[0;34m)\u001b[0m\u001b[0;34m)\u001b[0m\u001b[0;34m\u001b[0m\u001b[0;34m\u001b[0m\u001b[0m\n\u001b[0;32m--> 420\u001b[0;31m         \u001b[0;32mraise\u001b[0m \u001b[0mValueError\u001b[0m\u001b[0;34m(\u001b[0m\u001b[0;34mf\"Shape of passed values is {passed}, indices imply {implied}\"\u001b[0m\u001b[0;34m)\u001b[0m\u001b[0;34m\u001b[0m\u001b[0;34m\u001b[0m\u001b[0m\n\u001b[0m\u001b[1;32m    421\u001b[0m \u001b[0;34m\u001b[0m\u001b[0m\n\u001b[1;32m    422\u001b[0m \u001b[0;34m\u001b[0m\u001b[0m\n",
            "\u001b[0;31mValueError\u001b[0m: Shape of passed values is (25294, 11), indices imply (25294, 12)"
          ]
        }
      ]
    },
    {
      "cell_type": "markdown",
      "source": [
        "From the results, we can see that \"Longitude\", \"Employees (Domestic Ultimate Total)\", \"Latitude\" and \"Employees (Single Site)\" are the more significant factors.\n"
      ],
      "metadata": {
        "id": "OGouOIG7d7qE"
      }
    },
    {
      "cell_type": "markdown",
      "source": [
        "\n",
        "\n",
        "* *RFE*\n",
        "\n"
      ],
      "metadata": {
        "id": "FeonzvpEVrf-"
      }
    },
    {
      "cell_type": "markdown",
      "source": [
        "The estimator is initially trained using the given set of features, and the importance of each feature is determined either through a specific attribute or a callable function. Subsequently, the least important features are iteratively removed from the current set, and this process is repeated recursively on the pruned set until the desired number of features to be selected is achieved. The ranking assigned to each feature represents its relative importance in contributing to the model's performance. The support indicates whether a feature is considered important or not based on a specified threshold. If the support is True for a feature, it means the feature is considered important. If the support is False for a feature, it means the feature is deemed less important and may be excluded."
      ],
      "metadata": {
        "id": "qLYW8-5Vd922"
      }
    },
    {
      "cell_type": "code",
      "source": [
        "from sklearn.feature_selection import RFE\n",
        "from sklearn.ensemble import RandomForestRegressor\n",
        "from sklearn.datasets import make_classification\n",
        "\n",
        "estimator = RandomForestRegressor(n_estimators=100, random_state=42)\n",
        "rfe = RFE(estimator, n_features_to_select=5)\n",
        "rfe.fit(X_train, y_train)\n",
        "\n",
        "feature_ranking = rfe.ranking_\n",
        "feature_support = rfe.support_\n",
        "\n",
        "# Create a DataFrame with feature names, ranking, and support, sorted by ranking in ascending order\n",
        "feature_info_df = pd.DataFrame({\n",
        "    'Feature': X_train.columns,\n",
        "    'Ranking': feature_ranking,\n",
        "    'Support': feature_support\n",
        "})\n",
        "\n",
        "feature_info_df = feature_info_df.sort_values(by='Ranking')\n",
        "\n",
        "print(feature_info_df)"
      ],
      "metadata": {
        "id": "QYY0WudTNXwm"
      },
      "execution_count": null,
      "outputs": []
    },
    {
      "cell_type": "markdown",
      "source": [
        "From the result, we can see that \"Latitude\", \"Longitude\", \"Year Found\", and \"Employees (Global Ultimate Total)\" are considered significant features with True support.\n"
      ],
      "metadata": {
        "id": "1lVPM6LzeCLh"
      }
    },
    {
      "cell_type": "markdown",
      "source": [
        "From both feature ranking methods, \"Latitude\", \"Longitude\", \"Employees (Global Ultimate Total)\" and \"Employees (Single Site)\" can be considered significant. Since location is the top ranking feature, we choose to implement \"dropna\" on longitude and latitude as imputation may create noise."
      ],
      "metadata": {
        "id": "2DEyZbzWeGDB"
      }
    },
    {
      "cell_type": "markdown",
      "source": [
        "**Drop unimportant features**"
      ],
      "metadata": {
        "id": "4lNqLFW6aGLf"
      }
    },
    {
      "cell_type": "code",
      "source": [
        "df3 = df3.drop(columns=['Entity Type'])"
      ],
      "metadata": {
        "id": "It8TqymOaULC"
      },
      "execution_count": null,
      "outputs": []
    },
    {
      "cell_type": "markdown",
      "source": [
        "From Random Forest regressor, as well as RFE, we can see that Entity Type is always ranked last. Therefore, although we tried to encode this feature, it still does not play an important role in our model. Consequently, we decided to drop this variable.\n"
      ],
      "metadata": {
        "id": "Ffo-xBKVeJwD"
      }
    },
    {
      "cell_type": "markdown",
      "source": [
        "### 2.2.2 Variance Analysis"
      ],
      "metadata": {
        "id": "FrWw_T3iNPwB"
      }
    },
    {
      "cell_type": "markdown",
      "source": [
        "Variance Threshold is an important apporach for feature selection as it removes all features with low variance. The reason is that features (independent variables) with low variance cannot explain much of the dependent variable which is the Domestic Ultimate Sales in our scenario."
      ],
      "metadata": {
        "id": "6DjMWJS8HeFT"
      }
    },
    {
      "cell_type": "code",
      "source": [
        "import pandas as pd\n",
        "numerical_columns = df3[[\"LATITUDE\",\"LONGITUDE\",\"SIC Code\",\"Year Found\",\"Employees (Single Site)\",\"Employees (Domestic Ultimate Total)\",\"Employees (Global Ultimate Total)\",\n",
        "                         \"Sales (Domestic Ultimate Total USD)\",\"Sales (Global Ultimate Total USD)\"]]\n",
        "#different threshold, number of features kept\n",
        "from sklearn.feature_selection import VarianceThreshold\n",
        "thresholds = [0.01, 0.1, 1, 10]  # Experiment with different thresholds\n",
        "\n",
        "for threshold in thresholds:\n",
        "    sel = VarianceThreshold(threshold=threshold)\n",
        "    X_selected = sel.fit_transform(numerical_columns)\n",
        "    print(f\"Number of features kept with threshold {threshold}: {X_selected.shape[1]}\")"
      ],
      "metadata": {
        "id": "DL5jeS2eJqsm"
      },
      "execution_count": null,
      "outputs": []
    },
    {
      "cell_type": "markdown",
      "source": [
        "As evident from the results, only 2 out of 9 numerical variables are considered low-variance variables. Therefore, it is advisable to remove them. To gain a deeper understanding, we reexamined these two variables."
      ],
      "metadata": {
        "id": "ST4Yj1MdJsxw"
      }
    },
    {
      "cell_type": "code",
      "source": [
        "variance=numerical_columns.var()\n",
        "print(variance)"
      ],
      "metadata": {
        "id": "vwXIWtPaHdrM"
      },
      "execution_count": null,
      "outputs": []
    },
    {
      "cell_type": "markdown",
      "source": [
        "The code in the above cell displays the variance across all numerical variables. The VarianceThreshold approach suggests removing latitude and longitude due to their low variance. However, a more nuanced examination reveals a different perspective. Firstly, the data belongs to Singapore, where lattitude and longitude values exibit a highly limited range and are comparatively smaller than other varibles like sales. Additionally, according to our feature ranking, they are important features with longitude ranked 1st and latitude ranked 3rd, which will be illustrated later.\n",
        "\n",
        "In summary, despite the initial consideration to remove certain variables, we recommend retaining all the numerical variables for further analysis."
      ],
      "metadata": {
        "id": "AQZHMlT4JA65"
      }
    },
    {
      "cell_type": "markdown",
      "source": [
        "# **3. Modelling & Model Evaluation**"
      ],
      "metadata": {
        "id": "_euyfxG8LcZY"
      }
    },
    {
      "cell_type": "markdown",
      "source": [
        "* *Train Test Split*"
      ],
      "metadata": {
        "id": "IVXPmHQ7e6wG"
      }
    },
    {
      "cell_type": "code",
      "source": [
        "from sklearn.model_selection import train_test_split\n",
        "\n",
        "X = df3.drop('Sales (Domestic Ultimate Total USD)', axis=1)\n",
        "y = df3['Sales (Domestic Ultimate Total USD)']\n",
        "columns_name = X.columns\n",
        "\n",
        "X_train, X_test, y_train, y_test = train_test_split(X, y, test_size=0.2, random_state=42)"
      ],
      "metadata": {
        "id": "lSb3CqhvfFEQ"
      },
      "execution_count": null,
      "outputs": []
    },
    {
      "cell_type": "markdown",
      "source": [
        "* *KNN Imputer*"
      ],
      "metadata": {
        "id": "hUilsctNfKSc"
      }
    },
    {
      "cell_type": "code",
      "source": [
        "from sklearn.impute import KNNImputer\n",
        "imputer = KNNImputer(n_neighbors = 5)\n",
        "\n",
        "X_train = imputer.fit_transform(X_train)\n",
        "X_train = pd.DataFrame(X_train, columns = columns_name)\n",
        "\n",
        "X_test = imputer.transform(X_test)\n",
        "X_test = pd.DataFrame(X_test, columns = columns_name)"
      ],
      "metadata": {
        "id": "55sMEMK1fNdu"
      },
      "execution_count": null,
      "outputs": []
    },
    {
      "cell_type": "markdown",
      "source": [
        "Instead of resorting to conventional practices such as dropping all missing values or replacing them with zero or median, we implemented KNN imputers to replace input’s NA value with the most likely number based on the non-missing observation within a specific column. By doing so, we can make the model more representable and accurate in predicting the dependent variable. Why did we choose k=5 in particular?\n"
      ],
      "metadata": {
        "id": "Vc06eeARfnCS"
      }
    },
    {
      "cell_type": "code",
      "source": [
        "import matplotlib.pyplot as plt\n",
        "\n",
        "# Data\n",
        "x_values = [3, 5, 7, 9, 11, 13, 15, 17]\n",
        "y_values = [0.70655, 0.72394, 0.69773, 0.67660, 0.69885, 0.66076, 0.69555, 0.68019]\n",
        "\n",
        "# Plotting\n",
        "plt.plot(x_values, y_values, marker='o', linestyle='-', color='b')\n",
        "\n",
        "# Adding labels and title\n",
        "plt.xlabel('K')\n",
        "plt.ylabel('Mean R-squared Score')\n",
        "plt.title('Plot of Mean R-squared Score against different K value')\n",
        "plt.xticks([3, 5, 7, 9, 11, 13, 15, 17])\n",
        "# Show the plot\n",
        "plt.show()"
      ],
      "metadata": {
        "id": "SOLfBfOwgc2B",
        "outputId": "56e3ae33-42cb-4417-a6e4-9ad9a91af80e",
        "colab": {
          "base_uri": "https://localhost:8080/",
          "height": 472
        }
      },
      "execution_count": null,
      "outputs": [
        {
          "output_type": "display_data",
          "data": {
            "text/plain": [
              "<Figure size 640x480 with 1 Axes>"
            ],
            "image/png": "[encoded data removed]"
          },
          "metadata": {}
        }
      ]
    },
    {
      "cell_type": "markdown",
      "source": [
        " Our experiment with different K values revealed that the R-Squared value was the highest when K is equal to 5. This suggests that five nearest neighbors align well with the underlying pattern of the dataset.\n"
      ],
      "metadata": {
        "id": "VVkCQ60hg0Wn"
      }
    },
    {
      "cell_type": "markdown",
      "source": [
        "\n",
        "\n",
        "## 3.1 Gradient Boosting Regression\n",
        "\n",
        "\n"
      ],
      "metadata": {
        "id": "U6qoW9AzeWrc"
      }
    },
    {
      "cell_type": "code",
      "source": [
        "from sklearn.model_selection import train_test_split, cross_val_score, KFold\n",
        "from sklearn.ensemble import GradientBoostingRegressor\n",
        "from sklearn.metrics import mean_squared_error\n",
        "import statsmodels.api as sm\n",
        "\n",
        "# Create and fit a gradient boosting regressor\n",
        "gradient_model = GradientBoostingRegressor(random_state=42)\n",
        "gradient_model.fit(X_train, y_train)\n",
        "\n",
        "# K-fold cross validation with various evaluation metrics\n",
        "kf = KFold(n_splits=10, shuffle=True, random_state=42)\n",
        "cv_scores = cross_val_score(gradient_model, X_train, y_train, cv=kf, scoring='r2')\n",
        "\n",
        "# R-squared values\n",
        "print(\"Cross-Validation R-squared scores:\", cv_scores)\n",
        "print(\"Mean R-squared score:\", cv_scores.mean())\n",
        "print(\"Standard Deviation of R-squared scores:\", cv_scores.std())\n",
        "\n",
        "# Mean adjusted R-squared value\n",
        "n = len(X_train)\n",
        "p = X_test.shape[1]\n",
        "adjusted_r2 = 1 - ((1 - cv_scores.mean()) * (n - 1) / (n - p - 1))\n",
        "print(\"Mean adjusted R-squared score:\", adjusted_r2)\n",
        "\n",
        "# MSE\n",
        "cv_mse_scores = -cross_val_score(gradient_model, X_train, y_train, cv=kf, scoring='neg_mean_squared_error')\n",
        "mean_cv_mse = np.mean(cv_mse_scores)\n",
        "print(\"Cross-validated Mean Squared Error:\", mean_cv_mse)\n",
        "\n",
        "# AIC\n",
        "num_samples = len(y)\n",
        "num_parameters = len(gradient_model.get_params())\n",
        "aic = 2 * num_parameters + num_samples * np.log(mean_cv_mse)\n",
        "print(\"AIC:\", aic)\n",
        "\n",
        "# BIC\n",
        "bic = num_samples * np.log(mean_cv_mse) + num_parameters * np.log(num_samples)\n",
        "print(\"BIC:\", bic)"
      ],
      "metadata": {
        "id": "JgZwDQIYehJs"
      },
      "execution_count": null,
      "outputs": []
    },
    {
      "cell_type": "markdown",
      "source": [
        "\n",
        "\n",
        "## 3.2 Random Forest Regressor\n",
        "\n",
        "\n"
      ],
      "metadata": {
        "id": "itz9o7wjeghD"
      }
    },
    {
      "cell_type": "code",
      "source": [
        "from sklearn.ensemble import RandomForestRegressor\n",
        "\n",
        "# Create and fit the random forest regressor\n",
        "random_forest_model = RandomForestRegressor(n_estimators=100, random_state=42)\n",
        "random_forest_model.fit(X_train, y_train)\n",
        "\n",
        "# K-fold cross validation with various evaluation metrics\n",
        "kf = KFold(n_splits=10, shuffle=True, random_state=42)\n",
        "cv_scores = cross_val_score(random_forest_model, X_train, y_train, cv=kf, scoring='r2')\n",
        "\n",
        "# R-squared values\n",
        "print(\"Cross-Validation R-squared scores:\", cv_scores)\n",
        "print(\"Mean R-squared score:\", cv_scores.mean())\n",
        "print(\"Standard Deviation of R-squared scores:\", cv_scores.std())\n",
        "\n",
        "# Mean adjusted R-squared value\n",
        "n = len(X_train)\n",
        "p = X_test.shape[1]\n",
        "adjusted_r2 = 1 - ((1 - cv_scores.mean()) * (n - 1) / (n - p - 1))\n",
        "print(\"Mean adjusted R-squared score:\", adjusted_r2)\n",
        "\n",
        "# MSE\n",
        "cv_mse_scores = -cross_val_score(random_forest_model, X_train, y_train, cv=kf, scoring='neg_mean_squared_error')\n",
        "mean_cv_mse = np.mean(cv_mse_scores)\n",
        "print(\"Cross-validated Mean Squared Error:\", mean_cv_mse)\n",
        "\n",
        "# AIC\n",
        "num_samples = len(y)\n",
        "num_parameters = len(random_forest_model.get_params())\n",
        "aic = 2 * num_parameters + num_samples * np.log(mean_cv_mse)\n",
        "print(\"AIC:\", aic)\n",
        "\n",
        "# BIC\n",
        "bic = num_samples * np.log(mean_cv_mse) + num_parameters * np.log(num_samples)\n",
        "print(\"BIC:\", bic)"
      ],
      "metadata": {
        "id": "-g7_x_IHekeO"
      },
      "execution_count": null,
      "outputs": []
    },
    {
      "cell_type": "markdown",
      "source": [
        "\n",
        "\n",
        "## 3.3 Linear Regression\n",
        "\n",
        "\n"
      ],
      "metadata": {
        "id": "zsWaq_PKekzu"
      }
    },
    {
      "cell_type": "code",
      "source": [
        "from sklearn.linear_model import LinearRegression\n",
        "\n",
        "# Create and fit the linear regression model\n",
        "linear_model = LinearRegression ()\n",
        "linear_model.fit(X_train, y_train)\n",
        "\n",
        "# K-fold cross validation with various evaluation metrics\n",
        "kf = KFold(n_splits=10, shuffle=True, random_state=42)\n",
        "cv_scores = cross_val_score(linear_model, X_train, y_train, cv=kf, scoring='r2')\n",
        "\n",
        "# R-squared values\n",
        "print(\"Cross-Validation R-squared scores:\", cv_scores)\n",
        "print(\"Mean R-squared score:\", cv_scores.mean())\n",
        "print(\"Standard Deviation of R-squared scores:\", cv_scores.std())\n",
        "\n",
        "# Mean adjusted R-squared value\n",
        "n = len(X_train)\n",
        "p = X_test.shape[1]\n",
        "adjusted_r2 = 1 - ((1 - cv_scores.mean()) * (n - 1) / (n - p - 1))\n",
        "print(\"Mean adjusted R-squared score:\", adjusted_r2)\n",
        "\n",
        "# MSE\n",
        "cv_mse_scores = -cross_val_score(linear_model, X_train, y_train, cv=kf, scoring='neg_mean_squared_error')\n",
        "mean_cv_mse = np.mean(cv_mse_scores)\n",
        "print(\"Cross-validated Mean Squared Error:\", mean_cv_mse)\n",
        "\n",
        "# AIC\n",
        "num_samples = len(y)\n",
        "num_parameters = len(linear_model.get_params())\n",
        "aic = 2 * num_parameters + num_samples * np.log(mean_cv_mse)\n",
        "print(\"AIC:\", aic)\n",
        "\n",
        "# BIC\n",
        "bic = num_samples * np.log(mean_cv_mse) + num_parameters * np.log(num_samples)\n",
        "print(\"BIC:\", bic)"
      ],
      "metadata": {
        "id": "q3NbtZ8genXe"
      },
      "execution_count": null,
      "outputs": []
    },
    {
      "cell_type": "markdown",
      "source": [
        "\n",
        "\n",
        "\n",
        "\n",
        "## 3.4 Comparison Between Models\n",
        "\n",
        "\n",
        "\n",
        "\n",
        "\n"
      ],
      "metadata": {
        "id": "dC-Mv0j5L3qx"
      }
    },
    {
      "cell_type": "code",
      "source": [
        "from prettytable import PrettyTable\n",
        "x = PrettyTable()\n",
        "x.field_names = [\" \", \"R-Squared\", \"Adjusted R-Squared\", \"MSE(e+19)\", \"AIC\", \"BIC\"]\n",
        "x.add_row([\"Gradient Boosting Regressor\", 0.72394, 0.72379, 1.9783, 1123889, 1124060],divider=True)\n",
        "x.add_row([\"Random Forest Regressor\", 0.65131, 0.65112, 2.0581, 1124881, 1125019],divider=True)\n",
        "x.add_row([\"Linear Regression\", 0.03356, 0.03304, 6.2304, 1152872, 1152905],divider=True)\n",
        "print(x)"
      ],
      "metadata": {
        "colab": {
          "base_uri": "https://localhost:8080/"
        },
        "id": "9Y198JWHNdLV",
        "outputId": "bd066905-074f-40d4-bc1e-d6d19b303d0b"
      },
      "execution_count": null,
      "outputs": [
        {
          "output_type": "stream",
          "name": "stdout",
          "text": [
            "+-----------------------------+-----------+--------------------+-----------+---------+---------+\n",
            "|                             | R-Squared | Adjusted R-Squared | MSE(e+19) |   AIC   |   BIC   |\n",
            "+-----------------------------+-----------+--------------------+-----------+---------+---------+\n",
            "| Gradient Boosting Regressor |  0.72394  |      0.72379       |   1.9783  | 1123889 | 1124060 |\n",
            "+-----------------------------+-----------+--------------------+-----------+---------+---------+\n",
            "|   Random Forest Regressor   |  0.65131  |      0.65112       |   2.0581  | 1124881 | 1125019 |\n",
            "+-----------------------------+-----------+--------------------+-----------+---------+---------+\n",
            "|      Linear Regression      |  0.03356  |      0.03304       |   6.2304  | 1152872 | 1152905 |\n",
            "+-----------------------------+-----------+--------------------+-----------+---------+---------+\n"
          ]
        }
      ]
    },
    {
      "cell_type": "markdown",
      "source": [
        "To evaluate the performance of the models, we compared their R-Squared, Adjusted R-squared, MSE, AIC and BIC values.\n",
        "\n",
        "As MSE is sensitive to the scale of the target variable and tends to amplify the impact of large errors, the MSE values are relatively large (e+19) as the target variable (sales) has large values by nature. Hence, it is beneficial to consider evaluation metrics that are less sensitive to the scale of the target variable to compare the relative performance of the models.\n",
        "\n",
        "Upon evaluation, Gradient Boosting Regressor performed the best with the largest R-squared and Adjusted R-squared scores as well as the lowest MSE, AIC and BIC values, suggesting that it is better at capturing the patterns and relationships present in the dataset.\n",
        "\n",
        "Several factors may be accountable: Firstly, Gradient Boosting Regressor is well-suited for tasks where non-linear relationships exist between features and the target variable. In the given scenario where the relationship between independent variables and sales is not strictly linear, Gradient Boosting Regressor's ability to build trees sequentially and correct errors helps capture these non-linear patterns, while Linear Regression assumes linearity and fails to capture non-linear relationships effectively. Secondly, Gradient Boosting Regressor is relatively robust to outliers and handles extreme values more effectively. This robustness can be crucial in countering fluctuations or anomalies in the dataset.\n",
        "Moreover, Multiple Linear Regression exhibited significantly worse performance compared to Gradient Boosting Regressor and Random forest Regressor, possibly due to its sensitivity to noise or non-linear relationships introduced by the KNN imputer. Both Gradient Boosting Regressor and Random forest Regressor are robust to missing data and can handle imputed values."
      ],
      "metadata": {
        "id": "L812ASjxQFHA"
      }
    },
    {
      "cell_type": "markdown",
      "metadata": {
        "id": "JSANkR1NH69n"
      },
      "source": [
        "## The cell below is **NOT** to be removed\n",
        "##### The function is to be amended so that it accepts the given input (dataframe) and returns the required output (list).\n",
        "##### It is recommended to test the function out prior to submission\n",
        "-------------------------------------------------------------------------------------------------------------------------------\n",
        "##### The hidden_data parsed into the function below will have the same layout columns wise as the dataset *SENT* to you\n",
        "##### Thus, ensure that steps taken to modify the initial dataset to fit into the model are also carried out in the function below"
      ]
    },
    {
      "cell_type": "markdown",
      "source": [],
      "metadata": {
        "id": "OeixM64EOlzp"
      }
    },
    {
      "cell_type": "code",
      "execution_count": null,
      "metadata": {
        "id": "SWYN02b1H69n"
      },
      "outputs": [],
      "source": [
        "def testing_hidden_data(hidden_data: pd.DataFrame) -> list:\n",
        "    '''DO NOT REMOVE THIS FUNCTION.\n",
        "\n",
        "The function accepts a dataframe as input and return an iterable (list)\n",
        "of binary classes as output.\n",
        "\n",
        "The function should be coded to test on hidden data\n",
        "and should include any preprocessing functions needed for your model to perform.\n",
        "\n",
        "All relevant code MUST be included in this function.'''\n",
        "\n",
        "    result = []\n",
        "    return result"
      ]
    },
    {
      "cell_type": "markdown",
      "metadata": {
        "id": "q_jYYoDAH69o"
      },
      "source": [
        "##### Cell to check testing_hidden_data function"
      ]
    },
    {
      "cell_type": "code",
      "execution_count": null,
      "metadata": {
        "id": "VKijpdhGH69o"
      },
      "outputs": [],
      "source": [
        "# This cell should output a list of predictions.\n",
        "test_df = pd.read_csv(filepath)\n",
        "test_df = test_df.drop(columns=['Sales (Domestic Ultimate Total USD)'])\n",
        "print(testing_hidden_data(test_df))"
      ]
    },
    {
      "cell_type": "markdown",
      "metadata": {
        "id": "RN3tPoR5H69p"
      },
      "source": [
        "### Please have the filename renamed and ensure that it can be run with the requirements above being met. All the best!"
      ]
    }
  ],
  "metadata": {
    "kernelspec": {
      "display_name": "Python 3",
      "language": "python",
      "name": "python3"
    },
    "language_info": {
      "codemirror_mode": {
        "name": "ipython",
        "version": 3
      },
      "file_extension": ".py",
      "mimetype": "text/x-python",
      "name": "python",
      "nbconvert_exporter": "python",
      "pygments_lexer": "ipython3",
      "version": "3.11.4"
    },
    "colab": {
      "provenance": []
    }
  },
  "nbformat": 4,
  "nbformat_minor": 0
}