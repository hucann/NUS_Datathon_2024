{
 "cells": [
  {
   "cell_type": "markdown",
   "metadata": {
    "id": "dYKzKBrvH69h"
   },
   "source": [
    "##### The cell below is for you to keep track of the libraries used and install those libraries quickly\n",
    "##### Ensure that the proper library names are used and the syntax of `%pip install PACKAGE_NAME` is followed"
   ]
  },
  {
   "cell_type": "code",
   "execution_count": null,
   "metadata": {
    "id": "SdwIDmQ1H69j"
   },
   "outputs": [],
   "source": [
    "#%pip install pandas\n",
    "#%pip install matplotlib\n",
    "# add commented pip installation lines for packages used as shown above for ease of testing\n",
    "# the line should be of the format %pip install PACKAGE_NAME"
   ]
  },
  {
   "cell_type": "markdown",
   "metadata": {
    "id": "FhskRZ1LH69k"
   },
   "source": [
    "## **DO NOT CHANGE** the filepath variable\n",
    "##### Instead, create a folder named 'data' in your current working directory and\n",
    "##### have the .csv file inside that. A relative path *must* be used when loading data into pandas"
   ]
  },
  {
   "cell_type": "code",
   "execution_count": null,
   "metadata": {
    "id": "CQAyzwGMH69l"
   },
   "outputs": [],
   "source": [
    "# Can have as many cells as you want for code\n",
    "import pandas as pd\n",
    "filepath = \"./data/catA_train.csv\"\n",
    "# the initialised filepath MUST be a relative path to a folder named data that contains the parquet file"
   ]
  },
  {
   "cell_type": "code",
   "execution_count": 1,
   "metadata": {},
   "outputs": [],
   "source": [
    "# for self testing only\n",
    "import pandas as pd\n",
    "filepath = \"catA_train.csv\""
   ]
  },
  {
   "cell_type": "markdown",
   "metadata": {
    "id": "PZNzeQANH69m"
   },
   "source": [
    "### **ALL** Code for machine learning and dataset analysis should be entered below.\n",
    "##### Ensure that your code is clear and readable.\n",
    "##### Comments and Markdown notes are advised to direct attention to pieces of code you deem useful."
   ]
  },
  {
   "cell_type": "markdown",
   "metadata": {
    "id": "qSo8qfvGIiNu"
   },
   "source": [
    "\n",
    "# **1. Data preparation/preprocessing**"
   ]
  },
  {
   "cell_type": "code",
   "execution_count": 2,
   "metadata": {
    "id": "5y7KI0IuMLg_"
   },
   "outputs": [],
   "source": [
    "#import data\n",
    "df1 = pd.read_csv(filepath)"
   ]
  },
  {
   "cell_type": "code",
   "execution_count": 3,
   "metadata": {
    "id": "LnbWHidtDDnw"
   },
   "outputs": [
    {
     "name": "stdout",
     "output_type": "stream",
     "text": [
      "(29182, 28)\n",
      "Index(['LATITUDE', 'LONGITUDE', 'AccountID', 'Company', 'SIC Code', 'Industry',\n",
      "       '8-Digit SIC Code', '8-Digit SIC Description', 'Year Found',\n",
      "       'Entity Type', 'Parent Company', 'Parent Country', 'Ownership Type',\n",
      "       'Company Description', 'Square Footage',\n",
      "       'Company Status (Active/Inactive)', 'Employees (Single Site)',\n",
      "       'Employees (Domestic Ultimate Total)',\n",
      "       'Employees (Global Ultimate Total)',\n",
      "       'Sales (Domestic Ultimate Total USD)',\n",
      "       'Sales (Global Ultimate Total USD)', 'Import/Export Status',\n",
      "       'Fiscal Year End', 'Global Ultimate Company', 'Global Ultimate Country',\n",
      "       'Domestic Ultimate Company', 'Is Domestic Ultimate',\n",
      "       'Is Global Ultimate'],\n",
      "      dtype='object')\n"
     ]
    }
   ],
   "source": [
    "# find the number of rows and columns in our dataset\n",
    "print(df1.shape)\n",
    "\n",
    "# find the names of columns in our dataset\n",
    "print(df1.columns)"
   ]
  },
  {
   "cell_type": "code",
   "execution_count": 4,
   "metadata": {
    "id": "7ce1myppDJgc"
   },
   "outputs": [
    {
     "data": {
      "text/plain": [
       "LATITUDE                                 120\n",
       "LONGITUDE                                120\n",
       "AccountID                                  0\n",
       "Company                                    0\n",
       "SIC Code                                   0\n",
       "Industry                                   0\n",
       "8-Digit SIC Code                           0\n",
       "8-Digit SIC Description                    0\n",
       "Year Found                               434\n",
       "Entity Type                                0\n",
       "Parent Company                           514\n",
       "Parent Country                           520\n",
       "Ownership Type                             0\n",
       "Company Description                        0\n",
       "Square Footage                         29182\n",
       "Company Status (Active/Inactive)           0\n",
       "Employees (Single Site)                12403\n",
       "Employees (Domestic Ultimate Total)       79\n",
       "Employees (Global Ultimate Total)       2774\n",
       "Sales (Domestic Ultimate Total USD)        0\n",
       "Sales (Global Ultimate Total USD)          0\n",
       "Import/Export Status                   22569\n",
       "Fiscal Year End                        22445\n",
       "Global Ultimate Company                  514\n",
       "Global Ultimate Country                  523\n",
       "Domestic Ultimate Company               1035\n",
       "Is Domestic Ultimate                       0\n",
       "Is Global Ultimate                         0\n",
       "dtype: int64"
      ]
     },
     "execution_count": 4,
     "metadata": {},
     "output_type": "execute_result"
    }
   ],
   "source": [
    "# check for the number of missing values in the dataframe\n",
    "df1.isna().sum()"
   ]
  },
  {
   "cell_type": "markdown",
   "metadata": {
    "id": "1uncFTO9LnRR"
   },
   "source": [
    "## 1.1 Dealing with Missing Data"
   ]
  },
  {
   "cell_type": "markdown",
   "metadata": {
    "id": "6EHXrUF8U11v"
   },
   "source": [
    "\n",
    "\n",
    "*   *Remove*\n",
    "\n",
    "    As indicated by the feature ranking results (Section 2.2.1), both \"Latitude\" and \"Longitude\" are important features. Considering its substantial potential impact on sales, rows with missing \"Latitude\" and \"Longitude\" values should, in our perspective, be excluded from the modelling process. Additionally, the number of missing values of these two features (120) is negligible in contrast to the substantial total sample size (29,182). Consequently, we find it appropriate to address this by simply removing rows with missing \"Latitude\" or \"Longitude\" values.\n",
    "\n",
    "\n",
    "\n"
   ]
  },
  {
   "cell_type": "code",
   "execution_count": 5,
   "metadata": {
    "id": "XgbBTTwmIixO"
   },
   "outputs": [],
   "source": [
    "df2 = df1.dropna(subset=[\"LATITUDE\", \"LONGITUDE\"])"
   ]
  },
  {
   "cell_type": "markdown",
   "metadata": {
    "id": "RSBC6eJTUt8D"
   },
   "source": [
    "\n",
    "\n",
    "*   *Impute with Domain Knowledge*\n",
    "\n",
    "    Nevertheless, features like \"Employees (Single Site)\" do have a significant number of missing values. Simply discarding these features with missing values might result in information loss, and thus distort the original characteristics of the data. This might lead to a loss of potentially meaningful patterns or insights that could have been derived from those missing data points, adversely affecting our modeling process. Therefore, we decided to delve into the dataset and identify potential patterns that could assist in imputing such missing values, complemented by our domain knowledge.\n",
    "\n",
    "\n",
    "\n"
   ]
  },
  {
   "cell_type": "code",
   "execution_count": 8,
   "metadata": {
    "id": "UAR7uUquMzr-"
   },
   "outputs": [
    {
     "name": "stdout",
     "output_type": "stream",
     "text": [
      "(4977, 28)\n"
     ]
    },
    {
     "name": "stderr",
     "output_type": "stream",
     "text": [
      "C:\\Users\\hucan\\Anaconda3\\lib\\site-packages\\ipykernel_launcher.py:6: UserWarning: Boolean Series key will be reindexed to match DataFrame index.\n",
      "  \n"
     ]
    }
   ],
   "source": [
    "# Analysis\n",
    "\n",
    "df_testing = df2.dropna(subset=[\"Employees (Single Site)\", \"Employees (Domestic Ultimate Total)\"])\n",
    "\n",
    "# When the company is its domestic ultimate company\n",
    "df_testing = df_testing[df2['Is Domestic Ultimate'] == 1]\n",
    "\n",
    "# Data with employees(single site) being equal to employees(domestic ultimate total)\n",
    "df_testing1 = df_testing[df_testing['Employees (Single Site)'] == df_testing['Employees (Domestic Ultimate Total)']]\n",
    "\n",
    "print(df_testing1.shape)\n"
   ]
  },
  {
   "cell_type": "code",
   "execution_count": 9,
   "metadata": {
    "id": "fWkz14ccRc-Q"
   },
   "outputs": [
    {
     "name": "stdout",
     "output_type": "stream",
     "text": [
      "(200, 28)\n"
     ]
    }
   ],
   "source": [
    "# Data with employees(single site) not being equal to employees(domestic ultimate total)\n",
    "df_testing2 = df_testing[df_testing['Employees (Single Site)'] != df_testing['Employees (Domestic Ultimate Total)']]\n",
    "\n",
    "print(df_testing2.shape)"
   ]
  },
  {
   "cell_type": "markdown",
   "metadata": {
    "id": "WgEMF4-xRoTj"
   },
   "source": [
    "  This demonstrates that, when the company is its domestic ultimate company, \"Employees(Single Site)\" would be most likely equal to \"Employees(Domestic Ultimate Total)\".\n",
    "\n",
    "  This can be explained with domain knowledge. \"Employees(Domestic Ultimate Total)\" is defined as the employees for the domestic Ultimate parent entities while \"Employees(Single Site)\" is defined as the number of employees at a single location. When the company is the domestic ultimate company, its employee count, \"Employees(Single Site)\", would include employees from all of its subsidiaries and thus be equal to \"Employees(Domestic Ultimate Total)\"."
   ]
  },
  {
   "cell_type": "code",
   "execution_count": 11,
   "metadata": {
    "id": "UtXcgLJyQJaI"
   },
   "outputs": [],
   "source": [
    "# Impute the missing data\n",
    "condition_mask = df2['Is Domestic Ultimate'] == 1\n",
    "df2.loc[condition_mask, 'Employees (Single Site)'] = df2.loc[condition_mask, 'Employees (Single Site)'].fillna(df2.loc[condition_mask, 'Employees (Domestic Ultimate Total)'])\n",
    "df2 = df2.dropna(subset=['Employees (Single Site)'])\n"
   ]
  },
  {
   "cell_type": "markdown",
   "metadata": {
    "id": "uXNTYfttU-dK"
   },
   "source": [
    "\n",
    "\n",
    "*   *KNN Imputation*\n",
    "\n",
    "    The K-Nearest Neighbors (KNN) imputer is well-suited for imputing missing values in our dataset due to its localized imputation approach, which considers neighboring data points to estimate missing values. Unlike global imputation methods, KNN adapts to the distribution of the data and can handle both numerical and categorical features, making it versatile. This applies to our dataset with both numerical and categorical features. It is particularly effective in our dataset where relationships between variables are non-linear, and there is no assumption of normality in the data. The parameter tuning feature allows flexibility in choosing the number of neighbors, and it aims to preserve local relationships, making it suitable for datasets with non-random patterns of missing values. As detailed in the subsequent evaluation section, the choice of k = 5 yields the most effective imputation results and is thus selected.\n",
    "\n",
    "\n"
   ]
  },
  {
   "cell_type": "code",
   "execution_count": null,
   "metadata": {
    "id": "tHfofz6WVDCM"
   },
   "outputs": [],
   "source": [
    "# See code under Section 3"
   ]
  },
  {
   "cell_type": "markdown",
   "metadata": {
    "id": "-IK0NXf8MFEd"
   },
   "source": [
    "## 1.2 Data encoding"
   ]
  },
  {
   "cell_type": "markdown",
   "metadata": {
    "id": "5-ELqFvaVb_A"
   },
   "source": [
    "\n",
    "\n",
    "*   *Encode SIC (Label Encoder)*\n",
    "\n",
    "Upon evaluation with various metrics and comparing the respective R-squared values with threshold = [7,14], threshold = 11 generated the largest R-squared score and is used for encoding.\n"
   ]
  },
  {
   "cell_type": "code",
   "execution_count": 12,
   "metadata": {
    "id": "HTxq4O8HMHCZ"
   },
   "outputs": [],
   "source": [
    "sic_code_frequency = df2['SIC Code'].value_counts()\n",
    "threshold = 11\n",
    "low_frequency_sic_codes = sic_code_frequency[sic_code_frequency < threshold].index\n",
    "df2['SIC Code'] = df2['SIC Code'].replace(low_frequency_sic_codes, 'Others')\n",
    "df2['SIC Code'] = df2['SIC Code'].astype(str)\n",
    "\n",
    "from sklearn.preprocessing import LabelEncoder\n",
    "label_encoder = LabelEncoder()\n",
    "df2['SIC Code'] = label_encoder.fit_transform(df2['SIC Code'])"
   ]
  },
  {
   "cell_type": "markdown",
   "metadata": {
    "id": "E5x0gigNZFTj"
   },
   "source": [
    "\n",
    "\n",
    "*   *Encode \"Entity Type\"*\n",
    "\n",
    "    We attempted both One-Hot Encoding and Label Encoder for \"Entity Type\". However, during the Feature Ranking analysis (Section 2.2.1), \"Entity Type\" is proven to be a less important feature. Upon testing the models, we realised that despite being encoded, \"Entity Type\" would only adversely affect our model performance. Thus, we decided to exclude \"Entity Type\".\n",
    "\n",
    "\n"
   ]
  },
  {
   "cell_type": "code",
   "execution_count": 13,
   "metadata": {
    "id": "A2y48EfbZI-r"
   },
   "outputs": [
    {
     "name": "stdout",
     "output_type": "stream",
     "text": [
      "Subsidiary     18271\n",
      "Parent          7485\n",
      "Independent      260\n",
      "Branch            10\n",
      "Name: Entity Type, dtype: int64\n"
     ]
    }
   ],
   "source": [
    "# Analysis\n",
    "entity_type_counts = df2['Entity Type'].value_counts()\n",
    "print(entity_type_counts)"
   ]
  },
  {
   "cell_type": "code",
   "execution_count": 14,
   "metadata": {
    "id": "ffMc0BkKZL97"
   },
   "outputs": [],
   "source": [
    "df2['Entity Type'] = label_encoder.fit_transform(df2['Entity Type'])"
   ]
  },
  {
   "cell_type": "markdown",
   "metadata": {
    "id": "O6uKQTM3LZ28"
   },
   "source": [
    "# **2. EDA**"
   ]
  },
  {
   "cell_type": "markdown",
   "metadata": {
    "id": "kgxcwppSL0aP"
   },
   "source": [
    "## 2.1 Feature Engineering"
   ]
  },
  {
   "cell_type": "markdown",
   "metadata": {
    "id": "wjT_eK4ANqRl"
   },
   "source": [
    "### 2.1.1 Data Type Conversion"
   ]
  },
  {
   "cell_type": "markdown",
   "metadata": {
    "id": "TDl_uUkqznk-"
   },
   "source": [
    "It is essential to convert feature with originally integer values to boolean form so that models can handle the data."
   ]
  },
  {
   "cell_type": "code",
   "execution_count": 15,
   "metadata": {
    "colab": {
     "base_uri": "https://localhost:8080/",
     "height": 208
    },
    "id": "xXG7mOJ_L2tU",
    "outputId": "f6fbac06-732a-4ab7-d2b1-1ad9d8125575"
   },
   "outputs": [],
   "source": [
    "# Convert 1/0 to TRUE/FALSE\n",
    "df2['Is Domestic Ultimate'] = df2['Is Domestic Ultimate'] == 1\n",
    "df2['Is Global Ultimate'] = df2['Is Global Ultimate'] == 1"
   ]
  },
  {
   "cell_type": "markdown",
   "metadata": {
    "id": "xOpfVrCnN_MI"
   },
   "source": [
    "### 2.1.2 Data Cleaning (only keep ownership == private)"
   ]
  },
  {
   "cell_type": "code",
   "execution_count": 16,
   "metadata": {
    "colab": {
     "base_uri": "https://localhost:8080/",
     "height": 208
    },
    "id": "elfJ5AoEOJ5s",
    "outputId": "a768528a-268d-438e-b3da-9d645f7b8683"
   },
   "outputs": [
    {
     "name": "stdout",
     "output_type": "stream",
     "text": [
      "Private           25294\n",
      "Public              639\n",
      "Partnership          45\n",
      "Public Sector        35\n",
      "Non-Corporates        9\n",
      "Nonprofit             4\n",
      "Name: Ownership Type, dtype: int64\n"
     ]
    }
   ],
   "source": [
    "# Analysis\n",
    "ownership_type_counts = df2['Ownership Type'].value_counts()\n",
    "print(ownership_type_counts)"
   ]
  },
  {
   "cell_type": "markdown",
   "metadata": {
    "id": "Z8ejWLkfIdGD"
   },
   "source": [
    "This shows that the majority of companies are privately owned. Thus, we decided to only keep such companies and drop the rest."
   ]
  },
  {
   "cell_type": "code",
   "execution_count": 17,
   "metadata": {
    "id": "y4NTQwJjW5X8"
   },
   "outputs": [],
   "source": [
    "# Clean Ownership Type\n",
    "df2 = df2.drop(df2[df2['Ownership Type'] != \"Private\"].index)"
   ]
  },
  {
   "cell_type": "markdown",
   "metadata": {
    "id": "eP6gcyhTXY8u"
   },
   "source": [
    "### 2.1.3 Create Artificial Features (imports/exports)"
   ]
  },
  {
   "cell_type": "code",
   "execution_count": 18,
   "metadata": {
    "id": "kSepkjotXieo"
   },
   "outputs": [
    {
     "name": "stdout",
     "output_type": "stream",
     "text": [
      "Both Imports & Exports    3676\n",
      "Exports                   1398\n",
      "Imports                    575\n",
      "Name: Import/Export Status, dtype: int64\n"
     ]
    }
   ],
   "source": [
    "# Analysis\n",
    "imports_exports_counts = df2['Import/Export Status'].value_counts()\n",
    "print(imports_exports_counts)"
   ]
  },
  {
   "cell_type": "code",
   "execution_count": 19,
   "metadata": {
    "id": "c2LBCZByXxkP"
   },
   "outputs": [],
   "source": [
    "# Create new feature\n",
    "df2['Import/Export Status_Missing'] = df2['Import/Export Status'].isna()"
   ]
  },
  {
   "cell_type": "markdown",
   "metadata": {
    "id": "Ds05h4zsRJtL"
   },
   "source": [
    "Instead of having 4 categories for \"Import/Export Status\", we created a new feautre called \"Import/Export Status_Missing\". The column contains boolan value 1 (Import/Export Status Missing) and 0 (Import/Export Status Not Missing)."
   ]
  },
  {
   "cell_type": "markdown",
   "metadata": {
    "id": "-KZJF3tuguXU"
   },
   "source": [
    "\n",
    "\n",
    "*   *Insights*\n",
    "\n"
   ]
  },
  {
   "cell_type": "markdown",
   "metadata": {
    "id": "s3q-jBSmhQzp"
   },
   "source": [
    "Upon examining the \"Import/Export Status\" variable, 22,569 missing values were identified out of a total of 29,182 entries. A more in-depth examination of the missing values revealed that 7,527 companies were associated with the SIC code 6719, constituting approximately one-third of the entire dataset with missing \"Import/Export Status\".\n",
    "\n",
    "Closer inspection of the SIC code 6719 revealed that these 7,527 companies primarily function as holding companies, implying that they do not directly engage in daily import and export activities; instead, they derive profits through the acquisition or control of ownership interests in other companies.\n"
   ]
  },
  {
   "cell_type": "markdown",
   "metadata": {
    "id": "li6qhQUOLx2Q"
   },
   "source": [
    "## 2.2 Feature Selection"
   ]
  },
  {
   "cell_type": "markdown",
   "metadata": {
    "id": "gXVss4o5ZRD5"
   },
   "source": [
    "*   *Drop non-numeric features*"
   ]
  },
  {
   "cell_type": "code",
   "execution_count": 20,
   "metadata": {
    "id": "BbxoPEHFZYar"
   },
   "outputs": [],
   "source": [
    "columns_to_drop = ['Ownership Type', \"Company Status (Active/Inactive)\",'Import/Export Status',\"error\", \"Fiscal Year End\", \"Global Ultimate Company\", \"Domestic Ultimate Company\", \"Web Address\", \"Square Footage\", \"Company Description\", \"PostCode\", \"8-Digit SIC Code\", \"8-Digit SIC Description\", \"AccountID\",\n",
    "                   \"Parent Company\", \"City\", \"Country\", \"Address\", \"Address1\", \"Industry\", \"Region\", \"Parent Country\", \"Global Ultimate Country\", \"Company\"]\n",
    "df3 = df2.drop(columns=[col for col in columns_to_drop if col in df2.columns], errors='ignore')"
   ]
  },
  {
   "cell_type": "markdown",
   "metadata": {
    "id": "fzbB56_WNOCa"
   },
   "source": [
    "###  2.2.1 Feature Ranking"
   ]
  },
  {
   "cell_type": "markdown",
   "metadata": {
    "id": "CTAouNmLViJ6"
   },
   "source": [
    "\n",
    "\n",
    "*   *Correlation Matrix*\n",
    "\n",
    "\n"
   ]
  },
  {
   "cell_type": "code",
   "execution_count": 21,
   "metadata": {
    "id": "-u7Lx1lPLcEz"
   },
   "outputs": [
    {
     "data": {
      "text/html": [
       "<div>\n",
       "<style scoped>\n",
       "    .dataframe tbody tr th:only-of-type {\n",
       "        vertical-align: middle;\n",
       "    }\n",
       "\n",
       "    .dataframe tbody tr th {\n",
       "        vertical-align: top;\n",
       "    }\n",
       "\n",
       "    .dataframe thead th {\n",
       "        text-align: right;\n",
       "    }\n",
       "</style>\n",
       "<table border=\"1\" class=\"dataframe\">\n",
       "  <thead>\n",
       "    <tr style=\"text-align: right;\">\n",
       "      <th></th>\n",
       "      <th>LATITUDE</th>\n",
       "      <th>LONGITUDE</th>\n",
       "      <th>SIC Code</th>\n",
       "      <th>Year Found</th>\n",
       "      <th>Entity Type</th>\n",
       "      <th>Employees (Single Site)</th>\n",
       "      <th>Employees (Domestic Ultimate Total)</th>\n",
       "      <th>Employees (Global Ultimate Total)</th>\n",
       "      <th>Sales (Domestic Ultimate Total USD)</th>\n",
       "      <th>Sales (Global Ultimate Total USD)</th>\n",
       "      <th>Is Domestic Ultimate</th>\n",
       "      <th>Is Global Ultimate</th>\n",
       "      <th>Import/Export Status_Missing</th>\n",
       "    </tr>\n",
       "  </thead>\n",
       "  <tbody>\n",
       "    <tr>\n",
       "      <th>LATITUDE</th>\n",
       "      <td>1.000000</td>\n",
       "      <td>-0.052074</td>\n",
       "      <td>-0.100352</td>\n",
       "      <td>-0.030425</td>\n",
       "      <td>0.044921</td>\n",
       "      <td>-0.007398</td>\n",
       "      <td>0.000716</td>\n",
       "      <td>-0.010651</td>\n",
       "      <td>0.001088</td>\n",
       "      <td>-0.012212</td>\n",
       "      <td>-0.002388</td>\n",
       "      <td>-0.040653</td>\n",
       "      <td>-0.060088</td>\n",
       "    </tr>\n",
       "    <tr>\n",
       "      <th>LONGITUDE</th>\n",
       "      <td>-0.052074</td>\n",
       "      <td>1.000000</td>\n",
       "      <td>0.023178</td>\n",
       "      <td>-0.004713</td>\n",
       "      <td>-0.009282</td>\n",
       "      <td>-0.006453</td>\n",
       "      <td>0.013087</td>\n",
       "      <td>0.003886</td>\n",
       "      <td>-0.002667</td>\n",
       "      <td>0.010639</td>\n",
       "      <td>0.005324</td>\n",
       "      <td>0.010534</td>\n",
       "      <td>0.005264</td>\n",
       "    </tr>\n",
       "    <tr>\n",
       "      <th>SIC Code</th>\n",
       "      <td>-0.100352</td>\n",
       "      <td>0.023178</td>\n",
       "      <td>1.000000</td>\n",
       "      <td>0.138244</td>\n",
       "      <td>-0.098095</td>\n",
       "      <td>-0.053952</td>\n",
       "      <td>-0.005258</td>\n",
       "      <td>0.000225</td>\n",
       "      <td>-0.024286</td>\n",
       "      <td>-0.023032</td>\n",
       "      <td>0.021222</td>\n",
       "      <td>0.102456</td>\n",
       "      <td>0.201199</td>\n",
       "    </tr>\n",
       "    <tr>\n",
       "      <th>Year Found</th>\n",
       "      <td>-0.030425</td>\n",
       "      <td>-0.004713</td>\n",
       "      <td>0.138244</td>\n",
       "      <td>1.000000</td>\n",
       "      <td>-0.132017</td>\n",
       "      <td>-0.099019</td>\n",
       "      <td>-0.043976</td>\n",
       "      <td>-0.031161</td>\n",
       "      <td>0.015138</td>\n",
       "      <td>-0.027929</td>\n",
       "      <td>0.072404</td>\n",
       "      <td>0.133644</td>\n",
       "      <td>0.382889</td>\n",
       "    </tr>\n",
       "    <tr>\n",
       "      <th>Entity Type</th>\n",
       "      <td>0.044921</td>\n",
       "      <td>-0.009282</td>\n",
       "      <td>-0.098095</td>\n",
       "      <td>-0.132017</td>\n",
       "      <td>1.000000</td>\n",
       "      <td>0.030848</td>\n",
       "      <td>0.032088</td>\n",
       "      <td>0.068112</td>\n",
       "      <td>0.040565</td>\n",
       "      <td>0.086399</td>\n",
       "      <td>-0.477778</td>\n",
       "      <td>-0.902415</td>\n",
       "      <td>-0.100135</td>\n",
       "    </tr>\n",
       "    <tr>\n",
       "      <th>Employees (Single Site)</th>\n",
       "      <td>-0.007398</td>\n",
       "      <td>-0.006453</td>\n",
       "      <td>-0.053952</td>\n",
       "      <td>-0.099019</td>\n",
       "      <td>0.030848</td>\n",
       "      <td>1.000000</td>\n",
       "      <td>0.180851</td>\n",
       "      <td>0.055020</td>\n",
       "      <td>0.010735</td>\n",
       "      <td>0.050504</td>\n",
       "      <td>0.023870</td>\n",
       "      <td>-0.038646</td>\n",
       "      <td>-0.096497</td>\n",
       "    </tr>\n",
       "    <tr>\n",
       "      <th>Employees (Domestic Ultimate Total)</th>\n",
       "      <td>0.000716</td>\n",
       "      <td>0.013087</td>\n",
       "      <td>-0.005258</td>\n",
       "      <td>-0.043976</td>\n",
       "      <td>0.032088</td>\n",
       "      <td>0.180851</td>\n",
       "      <td>1.000000</td>\n",
       "      <td>0.023605</td>\n",
       "      <td>0.020877</td>\n",
       "      <td>0.029307</td>\n",
       "      <td>-0.067274</td>\n",
       "      <td>-0.053277</td>\n",
       "      <td>-0.020556</td>\n",
       "    </tr>\n",
       "    <tr>\n",
       "      <th>Employees (Global Ultimate Total)</th>\n",
       "      <td>-0.010651</td>\n",
       "      <td>0.003886</td>\n",
       "      <td>0.000225</td>\n",
       "      <td>-0.031161</td>\n",
       "      <td>0.068112</td>\n",
       "      <td>0.055020</td>\n",
       "      <td>0.023605</td>\n",
       "      <td>1.000000</td>\n",
       "      <td>-0.001670</td>\n",
       "      <td>0.662706</td>\n",
       "      <td>0.077462</td>\n",
       "      <td>-0.094783</td>\n",
       "      <td>-0.057078</td>\n",
       "    </tr>\n",
       "    <tr>\n",
       "      <th>Sales (Domestic Ultimate Total USD)</th>\n",
       "      <td>0.001088</td>\n",
       "      <td>-0.002667</td>\n",
       "      <td>-0.024286</td>\n",
       "      <td>0.015138</td>\n",
       "      <td>0.040565</td>\n",
       "      <td>0.010735</td>\n",
       "      <td>0.020877</td>\n",
       "      <td>-0.001670</td>\n",
       "      <td>1.000000</td>\n",
       "      <td>0.110911</td>\n",
       "      <td>-0.055581</td>\n",
       "      <td>-0.042075</td>\n",
       "      <td>0.005048</td>\n",
       "    </tr>\n",
       "    <tr>\n",
       "      <th>Sales (Global Ultimate Total USD)</th>\n",
       "      <td>-0.012212</td>\n",
       "      <td>0.010639</td>\n",
       "      <td>-0.023032</td>\n",
       "      <td>-0.027929</td>\n",
       "      <td>0.086399</td>\n",
       "      <td>0.050504</td>\n",
       "      <td>0.029307</td>\n",
       "      <td>0.662706</td>\n",
       "      <td>0.110911</td>\n",
       "      <td>1.000000</td>\n",
       "      <td>0.035446</td>\n",
       "      <td>-0.103053</td>\n",
       "      <td>-0.039522</td>\n",
       "    </tr>\n",
       "    <tr>\n",
       "      <th>Is Domestic Ultimate</th>\n",
       "      <td>-0.002388</td>\n",
       "      <td>0.005324</td>\n",
       "      <td>0.021222</td>\n",
       "      <td>0.072404</td>\n",
       "      <td>-0.477778</td>\n",
       "      <td>0.023870</td>\n",
       "      <td>-0.067274</td>\n",
       "      <td>0.077462</td>\n",
       "      <td>-0.055581</td>\n",
       "      <td>0.035446</td>\n",
       "      <td>1.000000</td>\n",
       "      <td>0.558736</td>\n",
       "      <td>-0.133520</td>\n",
       "    </tr>\n",
       "    <tr>\n",
       "      <th>Is Global Ultimate</th>\n",
       "      <td>-0.040653</td>\n",
       "      <td>0.010534</td>\n",
       "      <td>0.102456</td>\n",
       "      <td>0.133644</td>\n",
       "      <td>-0.902415</td>\n",
       "      <td>-0.038646</td>\n",
       "      <td>-0.053277</td>\n",
       "      <td>-0.094783</td>\n",
       "      <td>-0.042075</td>\n",
       "      <td>-0.103053</td>\n",
       "      <td>0.558736</td>\n",
       "      <td>1.000000</td>\n",
       "      <td>0.105489</td>\n",
       "    </tr>\n",
       "    <tr>\n",
       "      <th>Import/Export Status_Missing</th>\n",
       "      <td>-0.060088</td>\n",
       "      <td>0.005264</td>\n",
       "      <td>0.201199</td>\n",
       "      <td>0.382889</td>\n",
       "      <td>-0.100135</td>\n",
       "      <td>-0.096497</td>\n",
       "      <td>-0.020556</td>\n",
       "      <td>-0.057078</td>\n",
       "      <td>0.005048</td>\n",
       "      <td>-0.039522</td>\n",
       "      <td>-0.133520</td>\n",
       "      <td>0.105489</td>\n",
       "      <td>1.000000</td>\n",
       "    </tr>\n",
       "  </tbody>\n",
       "</table>\n",
       "</div>"
      ],
      "text/plain": [
       "                                     LATITUDE  LONGITUDE  SIC Code  \\\n",
       "LATITUDE                             1.000000  -0.052074 -0.100352   \n",
       "LONGITUDE                           -0.052074   1.000000  0.023178   \n",
       "SIC Code                            -0.100352   0.023178  1.000000   \n",
       "Year Found                          -0.030425  -0.004713  0.138244   \n",
       "Entity Type                          0.044921  -0.009282 -0.098095   \n",
       "Employees (Single Site)             -0.007398  -0.006453 -0.053952   \n",
       "Employees (Domestic Ultimate Total)  0.000716   0.013087 -0.005258   \n",
       "Employees (Global Ultimate Total)   -0.010651   0.003886  0.000225   \n",
       "Sales (Domestic Ultimate Total USD)  0.001088  -0.002667 -0.024286   \n",
       "Sales (Global Ultimate Total USD)   -0.012212   0.010639 -0.023032   \n",
       "Is Domestic Ultimate                -0.002388   0.005324  0.021222   \n",
       "Is Global Ultimate                  -0.040653   0.010534  0.102456   \n",
       "Import/Export Status_Missing        -0.060088   0.005264  0.201199   \n",
       "\n",
       "                                     Year Found  Entity Type  \\\n",
       "LATITUDE                              -0.030425     0.044921   \n",
       "LONGITUDE                             -0.004713    -0.009282   \n",
       "SIC Code                               0.138244    -0.098095   \n",
       "Year Found                             1.000000    -0.132017   \n",
       "Entity Type                           -0.132017     1.000000   \n",
       "Employees (Single Site)               -0.099019     0.030848   \n",
       "Employees (Domestic Ultimate Total)   -0.043976     0.032088   \n",
       "Employees (Global Ultimate Total)     -0.031161     0.068112   \n",
       "Sales (Domestic Ultimate Total USD)    0.015138     0.040565   \n",
       "Sales (Global Ultimate Total USD)     -0.027929     0.086399   \n",
       "Is Domestic Ultimate                   0.072404    -0.477778   \n",
       "Is Global Ultimate                     0.133644    -0.902415   \n",
       "Import/Export Status_Missing           0.382889    -0.100135   \n",
       "\n",
       "                                     Employees (Single Site)  \\\n",
       "LATITUDE                                           -0.007398   \n",
       "LONGITUDE                                          -0.006453   \n",
       "SIC Code                                           -0.053952   \n",
       "Year Found                                         -0.099019   \n",
       "Entity Type                                         0.030848   \n",
       "Employees (Single Site)                             1.000000   \n",
       "Employees (Domestic Ultimate Total)                 0.180851   \n",
       "Employees (Global Ultimate Total)                   0.055020   \n",
       "Sales (Domestic Ultimate Total USD)                 0.010735   \n",
       "Sales (Global Ultimate Total USD)                   0.050504   \n",
       "Is Domestic Ultimate                                0.023870   \n",
       "Is Global Ultimate                                 -0.038646   \n",
       "Import/Export Status_Missing                       -0.096497   \n",
       "\n",
       "                                     Employees (Domestic Ultimate Total)  \\\n",
       "LATITUDE                                                        0.000716   \n",
       "LONGITUDE                                                       0.013087   \n",
       "SIC Code                                                       -0.005258   \n",
       "Year Found                                                     -0.043976   \n",
       "Entity Type                                                     0.032088   \n",
       "Employees (Single Site)                                         0.180851   \n",
       "Employees (Domestic Ultimate Total)                             1.000000   \n",
       "Employees (Global Ultimate Total)                               0.023605   \n",
       "Sales (Domestic Ultimate Total USD)                             0.020877   \n",
       "Sales (Global Ultimate Total USD)                               0.029307   \n",
       "Is Domestic Ultimate                                           -0.067274   \n",
       "Is Global Ultimate                                             -0.053277   \n",
       "Import/Export Status_Missing                                   -0.020556   \n",
       "\n",
       "                                     Employees (Global Ultimate Total)  \\\n",
       "LATITUDE                                                     -0.010651   \n",
       "LONGITUDE                                                     0.003886   \n",
       "SIC Code                                                      0.000225   \n",
       "Year Found                                                   -0.031161   \n",
       "Entity Type                                                   0.068112   \n",
       "Employees (Single Site)                                       0.055020   \n",
       "Employees (Domestic Ultimate Total)                           0.023605   \n",
       "Employees (Global Ultimate Total)                             1.000000   \n",
       "Sales (Domestic Ultimate Total USD)                          -0.001670   \n",
       "Sales (Global Ultimate Total USD)                             0.662706   \n",
       "Is Domestic Ultimate                                          0.077462   \n",
       "Is Global Ultimate                                           -0.094783   \n",
       "Import/Export Status_Missing                                 -0.057078   \n",
       "\n",
       "                                     Sales (Domestic Ultimate Total USD)  \\\n",
       "LATITUDE                                                        0.001088   \n",
       "LONGITUDE                                                      -0.002667   \n",
       "SIC Code                                                       -0.024286   \n",
       "Year Found                                                      0.015138   \n",
       "Entity Type                                                     0.040565   \n",
       "Employees (Single Site)                                         0.010735   \n",
       "Employees (Domestic Ultimate Total)                             0.020877   \n",
       "Employees (Global Ultimate Total)                              -0.001670   \n",
       "Sales (Domestic Ultimate Total USD)                             1.000000   \n",
       "Sales (Global Ultimate Total USD)                               0.110911   \n",
       "Is Domestic Ultimate                                           -0.055581   \n",
       "Is Global Ultimate                                             -0.042075   \n",
       "Import/Export Status_Missing                                    0.005048   \n",
       "\n",
       "                                     Sales (Global Ultimate Total USD)  \\\n",
       "LATITUDE                                                     -0.012212   \n",
       "LONGITUDE                                                     0.010639   \n",
       "SIC Code                                                     -0.023032   \n",
       "Year Found                                                   -0.027929   \n",
       "Entity Type                                                   0.086399   \n",
       "Employees (Single Site)                                       0.050504   \n",
       "Employees (Domestic Ultimate Total)                           0.029307   \n",
       "Employees (Global Ultimate Total)                             0.662706   \n",
       "Sales (Domestic Ultimate Total USD)                           0.110911   \n",
       "Sales (Global Ultimate Total USD)                             1.000000   \n",
       "Is Domestic Ultimate                                          0.035446   \n",
       "Is Global Ultimate                                           -0.103053   \n",
       "Import/Export Status_Missing                                 -0.039522   \n",
       "\n",
       "                                     Is Domestic Ultimate  Is Global Ultimate  \\\n",
       "LATITUDE                                        -0.002388           -0.040653   \n",
       "LONGITUDE                                        0.005324            0.010534   \n",
       "SIC Code                                         0.021222            0.102456   \n",
       "Year Found                                       0.072404            0.133644   \n",
       "Entity Type                                     -0.477778           -0.902415   \n",
       "Employees (Single Site)                          0.023870           -0.038646   \n",
       "Employees (Domestic Ultimate Total)             -0.067274           -0.053277   \n",
       "Employees (Global Ultimate Total)                0.077462           -0.094783   \n",
       "Sales (Domestic Ultimate Total USD)             -0.055581           -0.042075   \n",
       "Sales (Global Ultimate Total USD)                0.035446           -0.103053   \n",
       "Is Domestic Ultimate                             1.000000            0.558736   \n",
       "Is Global Ultimate                               0.558736            1.000000   \n",
       "Import/Export Status_Missing                    -0.133520            0.105489   \n",
       "\n",
       "                                     Import/Export Status_Missing  \n",
       "LATITUDE                                                -0.060088  \n",
       "LONGITUDE                                                0.005264  \n",
       "SIC Code                                                 0.201199  \n",
       "Year Found                                               0.382889  \n",
       "Entity Type                                             -0.100135  \n",
       "Employees (Single Site)                                 -0.096497  \n",
       "Employees (Domestic Ultimate Total)                     -0.020556  \n",
       "Employees (Global Ultimate Total)                       -0.057078  \n",
       "Sales (Domestic Ultimate Total USD)                      0.005048  \n",
       "Sales (Global Ultimate Total USD)                       -0.039522  \n",
       "Is Domestic Ultimate                                    -0.133520  \n",
       "Is Global Ultimate                                       0.105489  \n",
       "Import/Export Status_Missing                             1.000000  "
      ]
     },
     "execution_count": 21,
     "metadata": {},
     "output_type": "execute_result"
    }
   ],
   "source": [
    "correlation_matrix = df3.corr()\n",
    "correlation_df = pd.DataFrame(correlation_matrix)\n",
    "correlation_df"
   ]
  },
  {
   "cell_type": "markdown",
   "metadata": {
    "id": "_blgIgqiU2LS"
   },
   "source": [
    "*   *Heap Map*\n"
   ]
  },
  {
   "cell_type": "code",
   "execution_count": 22,
   "metadata": {
    "id": "Pc1AIxdhUvNK"
   },
   "outputs": [
    {
     "data": {
      "image/png": "[encoded data removed]",
      "text/plain": [
       "<Figure size 864x720 with 2 Axes>"
      ]
     },
     "metadata": {
      "needs_background": "light"
     },
     "output_type": "display_data"
    }
   ],
   "source": [
    "import seaborn as sns\n",
    "import matplotlib.pyplot as plt\n",
    "import numpy as np\n",
    "\n",
    "# Calculate the correlation matrix\n",
    "corr_matrix = df3.corr()\n",
    "\n",
    "# Create a mask for the upper triangle\n",
    "mask = np.triu(np.ones_like(corr_matrix, dtype=bool))\n",
    "\n",
    "# Set up the matplotlib figure\n",
    "plt.figure(figsize=(12, 10))\n",
    "\n",
    "# Draw the heatmap with the mask and correct aspect ratio, using \"coolwarm\" colormap\n",
    "sns.heatmap(corr_matrix, mask=mask, cmap=\"coolwarm\", vmax=.3, center=0,\n",
    "            square=True, linewidths=.5, cbar_kws={\"shrink\": .5})\n",
    "\n",
    "plt.show()"
   ]
  },
  {
   "cell_type": "markdown",
   "metadata": {
    "id": "FiwWxAAadrxH"
   },
   "source": [
    "From the correlation table and heat map, we cannot observe significant correlation between domestic sales and certain features as it shows an even distribution of correlation across factors. Hence, we decided to implement another two methods."
   ]
  },
  {
   "cell_type": "markdown",
   "metadata": {
    "id": "f2LXHKcAVl1v"
   },
   "source": [
    "\n",
    "\n",
    "*   *Random Forest Regressor*\n",
    "\n",
    "\n"
   ]
  },
  {
   "cell_type": "markdown",
   "metadata": {
    "id": "2mBtlwBtdzrR"
   },
   "source": [
    "Random Forest is an ensemble learning method that consists multiple decision trees. Each decision tree is constructed using a subset of the data and a subset of features at each split. It aims to maximize the reduction in impurity at each split. As a result, features that are selected at the top of the trees are in general more important than features that are selected at the end nodes of the trees, as the top splits generally lead to larger information gains.\n"
   ]
  },
  {
   "cell_type": "code",
   "execution_count": 23,
   "metadata": {
    "colab": {
     "base_uri": "https://localhost:8080/",
     "height": 417
    },
    "id": "7L9kyZUwNUBy",
    "outputId": "14370d7e-f70c-45ce-845b-20a4de81de7b"
   },
   "outputs": [
    {
     "data": {
      "image/png": "[encoded data removed]",
      "text/plain": [
       "<Figure size 432x288 with 1 Axes>"
      ]
     },
     "metadata": {
      "needs_background": "light"
     },
     "output_type": "display_data"
    }
   ],
   "source": [
    "# Train test split\n",
    "from sklearn.model_selection import train_test_split\n",
    "\n",
    "X = df3.drop('Sales (Domestic Ultimate Total USD)', axis=1)\n",
    "y = df3['Sales (Domestic Ultimate Total USD)']\n",
    "columns_name = X.columns\n",
    "\n",
    "X_train, X_test, y_train, y_test = train_test_split(X, y, test_size=0.2, random_state=42)\n",
    "\n",
    "# KNN Imputer\n",
    "from sklearn.impute import KNNImputer\n",
    "imputer = KNNImputer(n_neighbors = 5)\n",
    "\n",
    "X_train = imputer.fit_transform(X_train)\n",
    "X_train = pd.DataFrame(X_train, columns = columns_name)\n",
    "\n",
    "X_test = imputer.transform(X_test)\n",
    "X_test = pd.DataFrame(X_test, columns = columns_name)\n",
    "\n",
    "############################################\n",
    "# Feature ranking with RandomForestRegressor\n",
    "from sklearn.ensemble import RandomForestRegressor\n",
    "import matplotlib.pyplot as plt\n",
    "\n",
    "forest = RandomForestRegressor(n_estimators=100, random_state=42)\n",
    "forest.fit(X_train, y_train)\n",
    "importances = forest.feature_importances_\n",
    "\n",
    "# Create a DataFrame with feature names and importances, sorted by importance in descending order\n",
    "X = pd.DataFrame(X, columns = df3.columns)\n",
    "feature_importance_df = pd.DataFrame({'Feature': X_train.columns, 'Importance': importances})\n",
    "feature_importance_df = feature_importance_df.sort_values(by='Importance', ascending=False)\n",
    "\n",
    "# Plot the feature importances\n",
    "fig, ax = plt.subplots()\n",
    "feature_importance_df.plot.bar(x='Feature', y='Importance', ax=ax)\n",
    "ax.set_title(\"Feature Importances\")\n",
    "ax.set_ylabel(\"Importance\")\n",
    "ax.set_xticklabels(feature_importance_df['Feature'], rotation=45, ha='right')\n",
    "fig.tight_layout()\n",
    "\n",
    "plt.show()"
   ]
  },
  {
   "cell_type": "markdown",
   "metadata": {
    "id": "OGouOIG7d7qE"
   },
   "source": [
    "From the results, we can see that \"Longitude\", \"Employees (Domestic Ultimate Total)\", \"Latitude\" and \"Employees (Single Site)\" are the more significant factors.\n"
   ]
  },
  {
   "cell_type": "markdown",
   "metadata": {
    "id": "FeonzvpEVrf-"
   },
   "source": [
    "\n",
    "\n",
    "* *RFE*\n",
    "\n"
   ]
  },
  {
   "cell_type": "markdown",
   "metadata": {
    "id": "qLYW8-5Vd922"
   },
   "source": [
    "The estimator is initially trained using the given set of features, and the importance of each feature is determined either through a specific attribute or a callable function. Subsequently, the least important features are iteratively removed from the current set, and this process is repeated recursively on the pruned set until the desired number of features to be selected is achieved. The ranking assigned to each feature represents its relative importance in contributing to the model's performance. The support indicates whether a feature is considered important or not based on a specified threshold. If the support is True for a feature, it means the feature is considered important. If the support is False for a feature, it means the feature is deemed less important and may be excluded."
   ]
  },
  {
   "cell_type": "code",
   "execution_count": 24,
   "metadata": {
    "id": "QYY0WudTNXwm"
   },
   "outputs": [
    {
     "name": "stdout",
     "output_type": "stream",
     "text": [
      "                                Feature  Ranking  Support\n",
      "0                              LATITUDE        1     True\n",
      "1                             LONGITUDE        1     True\n",
      "3                            Year Found        1     True\n",
      "7     Employees (Global Ultimate Total)        1     True\n",
      "8     Sales (Global Ultimate Total USD)        1     True\n",
      "5               Employees (Single Site)        2    False\n",
      "6   Employees (Domestic Ultimate Total)        3    False\n",
      "2                              SIC Code        4    False\n",
      "11         Import/Export Status_Missing        5    False\n",
      "9                  Is Domestic Ultimate        6    False\n",
      "10                   Is Global Ultimate        7    False\n",
      "4                           Entity Type        8    False\n"
     ]
    }
   ],
   "source": [
    "from sklearn.feature_selection import RFE\n",
    "from sklearn.ensemble import RandomForestRegressor\n",
    "from sklearn.datasets import make_classification\n",
    "\n",
    "estimator = RandomForestRegressor(n_estimators=100, random_state=42)\n",
    "rfe = RFE(estimator, n_features_to_select=5)\n",
    "rfe.fit(X_train, y_train)\n",
    "\n",
    "feature_ranking = rfe.ranking_\n",
    "feature_support = rfe.support_\n",
    "\n",
    "# Create a DataFrame with feature names, ranking, and support, sorted by ranking in ascending order\n",
    "feature_info_df = pd.DataFrame({\n",
    "    'Feature': X_train.columns,\n",
    "    'Ranking': feature_ranking,\n",
    "    'Support': feature_support\n",
    "})\n",
    "\n",
    "feature_info_df = feature_info_df.sort_values(by='Ranking')\n",
    "\n",
    "print(feature_info_df)"
   ]
  },
  {
   "cell_type": "markdown",
   "metadata": {
    "id": "1lVPM6LzeCLh"
   },
   "source": [
    "From the result, we can see that \"Latitude\", \"Longitude\", \"Year Found\", and \"Employees (Global Ultimate Total)\" are considered significant features with True support.\n"
   ]
  },
  {
   "cell_type": "markdown",
   "metadata": {
    "id": "2DEyZbzWeGDB"
   },
   "source": [
    "From both feature ranking methods, \"Latitude\", \"Longitude\", \"Employees (Global Ultimate Total)\" and \"Employees (Single Site)\" can be considered significant. Since location is the top ranking feature, we choose to implement \"dropna\" on longitude and latitude as imputation may create noise."
   ]
  },
  {
   "cell_type": "markdown",
   "metadata": {
    "id": "4lNqLFW6aGLf"
   },
   "source": [
    "**Drop unimportant features**"
   ]
  },
  {
   "cell_type": "code",
   "execution_count": 25,
   "metadata": {
    "id": "It8TqymOaULC"
   },
   "outputs": [],
   "source": [
    "df3 = df3.drop(columns=['Entity Type'])"
   ]
  },
  {
   "cell_type": "markdown",
   "metadata": {
    "id": "Ffo-xBKVeJwD"
   },
   "source": [
    "From Random Forest regressor, as well as RFE, we can see that Entity Type is always ranked last. Therefore, although we tried to encode this feature, it still does not play an important role in our model. Consequently, we decided to drop this variable.\n"
   ]
  },
  {
   "cell_type": "markdown",
   "metadata": {
    "id": "FrWw_T3iNPwB"
   },
   "source": [
    "### 2.2.2 Variance Analysis"
   ]
  },
  {
   "cell_type": "markdown",
   "metadata": {
    "id": "6DjMWJS8HeFT"
   },
   "source": [
    "Variance Threshold is an important apporach for feature selection as it removes all features with low variance. The reason is that features (independent variables) with low variance cannot explain much of the dependent variable which is the Domestic Ultimate Sales in our scenario."
   ]
  },
  {
   "cell_type": "code",
   "execution_count": 26,
   "metadata": {
    "id": "DL5jeS2eJqsm"
   },
   "outputs": [
    {
     "name": "stdout",
     "output_type": "stream",
     "text": [
      "Number of features kept with threshold 0.01: 7\n",
      "Number of features kept with threshold 0.1: 7\n",
      "Number of features kept with threshold 1: 7\n",
      "Number of features kept with threshold 10: 7\n"
     ]
    }
   ],
   "source": [
    "import pandas as pd\n",
    "numerical_columns = df3[[\"LATITUDE\",\"LONGITUDE\",\"SIC Code\",\"Year Found\",\"Employees (Single Site)\",\"Employees (Domestic Ultimate Total)\",\"Employees (Global Ultimate Total)\",\n",
    "                         \"Sales (Domestic Ultimate Total USD)\",\"Sales (Global Ultimate Total USD)\"]]\n",
    "#different threshold, number of features kept\n",
    "from sklearn.feature_selection import VarianceThreshold\n",
    "thresholds = [0.01, 0.1, 1, 10]  # Experiment with different thresholds\n",
    "\n",
    "for threshold in thresholds:\n",
    "    sel = VarianceThreshold(threshold=threshold)\n",
    "    X_selected = sel.fit_transform(numerical_columns)\n",
    "    print(f\"Number of features kept with threshold {threshold}: {X_selected.shape[1]}\")"
   ]
  },
  {
   "cell_type": "markdown",
   "metadata": {
    "id": "ST4Yj1MdJsxw"
   },
   "source": [
    "As evident from the results, only 2 out of 9 numerical variables are considered low-variance variables. Therefore, it is advisable to remove them. To gain a deeper understanding, we reexamined these two variables."
   ]
  },
  {
   "cell_type": "code",
   "execution_count": 27,
   "metadata": {
    "id": "vwXIWtPaHdrM"
   },
   "outputs": [
    {
     "name": "stdout",
     "output_type": "stream",
     "text": [
      "LATITUDE                               1.927556e-03\n",
      "LONGITUDE                              2.890853e-03\n",
      "SIC Code                               4.168536e+03\n",
      "Year Found                             1.639341e+02\n",
      "Employees (Single Site)                3.031563e+04\n",
      "Employees (Domestic Ultimate Total)    1.018032e+06\n",
      "Employees (Global Ultimate Total)      2.242970e+09\n",
      "Sales (Domestic Ultimate Total USD)    7.129202e+19\n",
      "Sales (Global Ultimate Total USD)      5.110233e+20\n",
      "dtype: float64\n"
     ]
    }
   ],
   "source": [
    "variance=numerical_columns.var()\n",
    "print(variance)"
   ]
  },
  {
   "cell_type": "markdown",
   "metadata": {
    "id": "AQZHMlT4JA65"
   },
   "source": [
    "The code in the above cell displays the variance across all numerical variables. The VarianceThreshold approach suggests removing latitude and longitude due to their low variance. However, a more nuanced examination reveals a different perspective. Firstly, the data belongs to Singapore, where lattitude and longitude values exibit a highly limited range and are comparatively smaller than other varibles like sales. Additionally, according to our feature ranking, they are important features with longitude ranked 1st and latitude ranked 3rd, which will be illustrated later.\n",
    "\n",
    "In summary, despite the initial consideration to remove certain variables, we recommend retaining all the numerical variables for further analysis."
   ]
  },
  {
   "cell_type": "markdown",
   "metadata": {
    "id": "_euyfxG8LcZY"
   },
   "source": [
    "# **3. Modelling & Model Evaluation**"
   ]
  },
  {
   "cell_type": "markdown",
   "metadata": {
    "id": "IVXPmHQ7e6wG"
   },
   "source": [
    "* *Train Test Split*"
   ]
  },
  {
   "cell_type": "code",
   "execution_count": 28,
   "metadata": {
    "id": "lSb3CqhvfFEQ"
   },
   "outputs": [],
   "source": [
    "from sklearn.model_selection import train_test_split\n",
    "\n",
    "X = df3.drop('Sales (Domestic Ultimate Total USD)', axis=1)\n",
    "y = df3['Sales (Domestic Ultimate Total USD)']\n",
    "columns_name = X.columns\n",
    "\n",
    "X_train, X_test, y_train, y_test = train_test_split(X, y, test_size=0.2, random_state=42)"
   ]
  },
  {
   "cell_type": "markdown",
   "metadata": {
    "id": "hUilsctNfKSc"
   },
   "source": [
    "* *KNN Imputer*"
   ]
  },
  {
   "cell_type": "code",
   "execution_count": 29,
   "metadata": {
    "id": "55sMEMK1fNdu"
   },
   "outputs": [],
   "source": [
    "from sklearn.impute import KNNImputer\n",
    "imputer = KNNImputer(n_neighbors = 5)\n",
    "\n",
    "X_train = imputer.fit_transform(X_train)\n",
    "X_train = pd.DataFrame(X_train, columns = columns_name)\n",
    "\n",
    "X_test = imputer.transform(X_test)\n",
    "X_test = pd.DataFrame(X_test, columns = columns_name)"
   ]
  },
  {
   "cell_type": "markdown",
   "metadata": {
    "id": "Vc06eeARfnCS"
   },
   "source": [
    "Instead of resorting to conventional practices such as dropping all missing values or replacing them with zero or median, we implemented KNN imputers to replace input’s NA value with the most likely number based on the non-missing observation within a specific column. By doing so, we can make the model more representable and accurate in predicting the dependent variable. Why did we choose k=5 in particular?\n"
   ]
  },
  {
   "cell_type": "code",
   "execution_count": 30,
   "metadata": {
    "colab": {
     "base_uri": "https://localhost:8080/",
     "height": 472
    },
    "id": "SOLfBfOwgc2B",
    "outputId": "56e3ae33-42cb-4417-a6e4-9ad9a91af80e"
   },
   "outputs": [
    {
     "data": {
      "image/png": "[encoded data removed]",
      "text/plain": [
       "<Figure size 432x288 with 1 Axes>"
      ]
     },
     "metadata": {
      "needs_background": "light"
     },
     "output_type": "display_data"
    }
   ],
   "source": [
    "import matplotlib.pyplot as plt\n",
    "\n",
    "# Data\n",
    "x_values = [3, 5, 7, 9, 11, 13, 15, 17]\n",
    "y_values = [0.70655, 0.72394, 0.69773, 0.67660, 0.69885, 0.66076, 0.69555, 0.68019]\n",
    "\n",
    "# Plotting\n",
    "plt.plot(x_values, y_values, marker='o', linestyle='-', color='b')\n",
    "\n",
    "# Adding labels and title\n",
    "plt.xlabel('K')\n",
    "plt.ylabel('Mean R-squared Score')\n",
    "plt.title('Plot of Mean R-squared Score against different K value')\n",
    "plt.xticks([3, 5, 7, 9, 11, 13, 15, 17])\n",
    "# Show the plot\n",
    "plt.show()"
   ]
  },
  {
   "cell_type": "markdown",
   "metadata": {
    "id": "VVkCQ60hg0Wn"
   },
   "source": [
    " Our experiment with different K values revealed that the R-Squared value was the highest when K is equal to 5. This suggests that five nearest neighbors align well with the underlying pattern of the dataset.\n"
   ]
  },
  {
   "cell_type": "markdown",
   "metadata": {
    "id": "U6qoW9AzeWrc"
   },
   "source": [
    "\n",
    "\n",
    "## 3.1 Gradient Boosting Regression\n",
    "\n",
    "\n"
   ]
  },
  {
   "cell_type": "code",
   "execution_count": 31,
   "metadata": {
    "id": "JgZwDQIYehJs"
   },
   "outputs": [
    {
     "name": "stdout",
     "output_type": "stream",
     "text": [
      "Cross-Validation R-squared scores: [0.56406816 0.87910863 0.81092537 0.61903439 0.75557404 0.87357622\n",
      " 0.78716806 0.95916849 0.12984129 0.8610102 ]\n",
      "Mean R-squared score: 0.7239474838165942\n",
      "Standard Deviation of R-squared scores: 0.22862007901947906\n",
      "Mean adjusted R-squared score: 0.7237973291571462\n",
      "Cross-validated Mean Squared Error: 1.978274822339959e+19\n",
      "AIC: 1123888.3627759207\n",
      "BIC: 1124059.267548262\n"
     ]
    }
   ],
   "source": [
    "from sklearn.model_selection import train_test_split, cross_val_score, KFold\n",
    "from sklearn.ensemble import GradientBoostingRegressor\n",
    "from sklearn.metrics import mean_squared_error\n",
    "import statsmodels.api as sm\n",
    "\n",
    "# Create and fit a gradient boosting regressor\n",
    "gradient_model = GradientBoostingRegressor(random_state=42)\n",
    "gradient_model.fit(X_train, y_train)\n",
    "\n",
    "# K-fold cross validation with various evaluation metrics\n",
    "kf = KFold(n_splits=10, shuffle=True, random_state=42)\n",
    "cv_scores = cross_val_score(gradient_model, X_train, y_train, cv=kf, scoring='r2')\n",
    "\n",
    "# R-squared values\n",
    "print(\"Cross-Validation R-squared scores:\", cv_scores)\n",
    "print(\"Mean R-squared score:\", cv_scores.mean())\n",
    "print(\"Standard Deviation of R-squared scores:\", cv_scores.std())\n",
    "\n",
    "# Mean adjusted R-squared value\n",
    "n = len(X_train)\n",
    "p = X_test.shape[1]\n",
    "adjusted_r2 = 1 - ((1 - cv_scores.mean()) * (n - 1) / (n - p - 1))\n",
    "print(\"Mean adjusted R-squared score:\", adjusted_r2)\n",
    "\n",
    "# MSE\n",
    "cv_mse_scores = -cross_val_score(gradient_model, X_train, y_train, cv=kf, scoring='neg_mean_squared_error')\n",
    "mean_cv_mse = np.mean(cv_mse_scores)\n",
    "print(\"Cross-validated Mean Squared Error:\", mean_cv_mse)\n",
    "\n",
    "# AIC\n",
    "num_samples = len(y)\n",
    "num_parameters = len(gradient_model.get_params())\n",
    "aic = 2 * num_parameters + num_samples * np.log(mean_cv_mse)\n",
    "print(\"AIC:\", aic)\n",
    "\n",
    "# BIC\n",
    "bic = num_samples * np.log(mean_cv_mse) + num_parameters * np.log(num_samples)\n",
    "print(\"BIC:\", bic)"
   ]
  },
  {
   "cell_type": "markdown",
   "metadata": {
    "id": "itz9o7wjeghD"
   },
   "source": [
    "\n",
    "\n",
    "## 3.2 Random Forest Regressor\n",
    "\n",
    "\n"
   ]
  },
  {
   "cell_type": "code",
   "execution_count": 32,
   "metadata": {
    "id": "-g7_x_IHekeO"
   },
   "outputs": [
    {
     "name": "stdout",
     "output_type": "stream",
     "text": [
      "Cross-Validation R-squared scores: [ 0.58310281  0.94069033  0.75952341  0.72879428  0.28502391  0.89786702\n",
      "  0.50770878  0.92222534 -0.01677884  0.89718413]\n",
      "Mean R-squared score: 0.6505341181038108\n",
      "Standard Deviation of R-squared scores: 0.3003115402674663\n",
      "Mean adjusted R-squared score: 0.6503440313362265\n",
      "Cross-validated Mean Squared Error: 2.070029395636686e+19\n",
      "AIC: 1125027.1331663567\n",
      "BIC: 1125165.4846487283\n"
     ]
    }
   ],
   "source": [
    "from sklearn.ensemble import RandomForestRegressor\n",
    "\n",
    "# Create and fit the random forest regressor\n",
    "random_forest_model = RandomForestRegressor(n_estimators=100, random_state=42)\n",
    "random_forest_model.fit(X_train, y_train)\n",
    "\n",
    "# K-fold cross validation with various evaluation metrics\n",
    "kf = KFold(n_splits=10, shuffle=True, random_state=42)\n",
    "cv_scores = cross_val_score(random_forest_model, X_train, y_train, cv=kf, scoring='r2')\n",
    "\n",
    "# R-squared values\n",
    "print(\"Cross-Validation R-squared scores:\", cv_scores)\n",
    "print(\"Mean R-squared score:\", cv_scores.mean())\n",
    "print(\"Standard Deviation of R-squared scores:\", cv_scores.std())\n",
    "\n",
    "# Mean adjusted R-squared value\n",
    "n = len(X_train)\n",
    "p = X_test.shape[1]\n",
    "adjusted_r2 = 1 - ((1 - cv_scores.mean()) * (n - 1) / (n - p - 1))\n",
    "print(\"Mean adjusted R-squared score:\", adjusted_r2)\n",
    "\n",
    "# MSE\n",
    "cv_mse_scores = -cross_val_score(random_forest_model, X_train, y_train, cv=kf, scoring='neg_mean_squared_error')\n",
    "mean_cv_mse = np.mean(cv_mse_scores)\n",
    "print(\"Cross-validated Mean Squared Error:\", mean_cv_mse)\n",
    "\n",
    "# AIC\n",
    "num_samples = len(y)\n",
    "num_parameters = len(random_forest_model.get_params())\n",
    "aic = 2 * num_parameters + num_samples * np.log(mean_cv_mse)\n",
    "print(\"AIC:\", aic)\n",
    "\n",
    "# BIC\n",
    "bic = num_samples * np.log(mean_cv_mse) + num_parameters * np.log(num_samples)\n",
    "print(\"BIC:\", bic)"
   ]
  },
  {
   "cell_type": "markdown",
   "metadata": {
    "id": "zsWaq_PKekzu"
   },
   "source": [
    "\n",
    "\n",
    "## 3.3 Linear Regression\n",
    "\n",
    "\n"
   ]
  },
  {
   "cell_type": "code",
   "execution_count": 33,
   "metadata": {
    "id": "q3NbtZ8genXe"
   },
   "outputs": [
    {
     "name": "stdout",
     "output_type": "stream",
     "text": [
      "Cross-Validation R-squared scores: [-0.08681922  0.02919249  0.0234676   0.00776578  0.05059598  0.12583234\n",
      "  0.02896675  0.08105908  0.03736211  0.03820479]\n",
      "Mean R-squared score: 0.03356277060611307\n",
      "Standard Deviation of R-squared scores: 0.05137619223400262\n",
      "Mean adjusted R-squared score: 0.03303709145250899\n",
      "Cross-validated Mean Squared Error: 6.230398549990066e+19\n",
      "AIC: 1152874.022537462\n",
      "BIC: 1152914.7141499242\n"
     ]
    }
   ],
   "source": [
    "from sklearn.linear_model import LinearRegression\n",
    "\n",
    "# Create and fit the linear regression model\n",
    "linear_model = LinearRegression ()\n",
    "linear_model.fit(X_train, y_train)\n",
    "\n",
    "# K-fold cross validation with various evaluation metrics\n",
    "kf = KFold(n_splits=10, shuffle=True, random_state=42)\n",
    "cv_scores = cross_val_score(linear_model, X_train, y_train, cv=kf, scoring='r2')\n",
    "\n",
    "# R-squared values\n",
    "print(\"Cross-Validation R-squared scores:\", cv_scores)\n",
    "print(\"Mean R-squared score:\", cv_scores.mean())\n",
    "print(\"Standard Deviation of R-squared scores:\", cv_scores.std())\n",
    "\n",
    "# Mean adjusted R-squared value\n",
    "n = len(X_train)\n",
    "p = X_test.shape[1]\n",
    "adjusted_r2 = 1 - ((1 - cv_scores.mean()) * (n - 1) / (n - p - 1))\n",
    "print(\"Mean adjusted R-squared score:\", adjusted_r2)\n",
    "\n",
    "# MSE\n",
    "cv_mse_scores = -cross_val_score(linear_model, X_train, y_train, cv=kf, scoring='neg_mean_squared_error')\n",
    "mean_cv_mse = np.mean(cv_mse_scores)\n",
    "print(\"Cross-validated Mean Squared Error:\", mean_cv_mse)\n",
    "\n",
    "# AIC\n",
    "num_samples = len(y)\n",
    "num_parameters = len(linear_model.get_params())\n",
    "aic = 2 * num_parameters + num_samples * np.log(mean_cv_mse)\n",
    "print(\"AIC:\", aic)\n",
    "\n",
    "# BIC\n",
    "bic = num_samples * np.log(mean_cv_mse) + num_parameters * np.log(num_samples)\n",
    "print(\"BIC:\", bic)"
   ]
  },
  {
   "cell_type": "markdown",
   "metadata": {
    "id": "dC-Mv0j5L3qx"
   },
   "source": [
    "\n",
    "\n",
    "\n",
    "\n",
    "## 3.4 Comparison Between Models\n",
    "\n",
    "\n",
    "\n",
    "\n",
    "\n"
   ]
  },
  {
   "cell_type": "code",
   "execution_count": 34,
   "metadata": {
    "colab": {
     "base_uri": "https://localhost:8080/"
    },
    "id": "9Y198JWHNdLV",
    "outputId": "bd066905-074f-40d4-bc1e-d6d19b303d0b"
   },
   "outputs": [
    {
     "name": "stdout",
     "output_type": "stream",
     "text": [
      "+-----------------------------+-----------+--------------------+-----------+---------+---------+\n",
      "|                             | R-Squared | Adjusted R-Squared | MSE(e+19) |   AIC   |   BIC   |\n",
      "+-----------------------------+-----------+--------------------+-----------+---------+---------+\n",
      "| Gradient Boosting Regressor |  0.72394  |      0.72379       |   1.9783  | 1123889 | 1124060 |\n",
      "+-----------------------------+-----------+--------------------+-----------+---------+---------+\n",
      "|   Random Forest Regressor   |  0.65131  |      0.65112       |   2.0581  | 1124881 | 1125019 |\n",
      "+-----------------------------+-----------+--------------------+-----------+---------+---------+\n",
      "|      Linear Regression      |  0.03356  |      0.03304       |   6.2304  | 1152872 | 1152905 |\n",
      "+-----------------------------+-----------+--------------------+-----------+---------+---------+\n"
     ]
    }
   ],
   "source": [
    "from prettytable import PrettyTable\n",
    "x = PrettyTable()\n",
    "x.field_names = [\" \", \"R-Squared\", \"Adjusted R-Squared\", \"MSE(e+19)\", \"AIC\", \"BIC\"]\n",
    "x.add_row([\"Gradient Boosting Regressor\", 0.72394, 0.72379, 1.9783, 1123889, 1124060],divider=True)\n",
    "x.add_row([\"Random Forest Regressor\", 0.65131, 0.65112, 2.0581, 1124881, 1125019],divider=True)\n",
    "x.add_row([\"Linear Regression\", 0.03356, 0.03304, 6.2304, 1152872, 1152905],divider=True)\n",
    "print(x)"
   ]
  },
  {
   "cell_type": "markdown",
   "metadata": {
    "id": "L812ASjxQFHA"
   },
   "source": [
    "To evaluate the performance of the models, we compared their R-Squared, Adjusted R-squared, MSE, AIC and BIC values.\n",
    "\n",
    "As MSE is sensitive to the scale of the target variable and tends to amplify the impact of large errors, the MSE values are relatively large (e+19) as the target variable (sales) has large values by nature. Hence, it is beneficial to consider evaluation metrics that are less sensitive to the scale of the target variable to compare the relative performance of the models.\n",
    "\n",
    "Upon evaluation, Gradient Boosting Regressor performed the best with the largest R-squared and Adjusted R-squared scores as well as the lowest MSE, AIC and BIC values, suggesting that it is better at capturing the patterns and relationships present in the dataset.\n",
    "\n",
    "Several factors may be accountable: Firstly, Gradient Boosting Regressor is well-suited for tasks where non-linear relationships exist between features and the target variable. In the given scenario where the relationship between independent variables and sales is not strictly linear, Gradient Boosting Regressor's ability to build trees sequentially and correct errors helps capture these non-linear patterns, while Linear Regression assumes linearity and fails to capture non-linear relationships effectively. Secondly, Gradient Boosting Regressor is relatively robust to outliers and handles extreme values more effectively. This robustness can be crucial in countering fluctuations or anomalies in the dataset.\n",
    "Moreover, Multiple Linear Regression exhibited significantly worse performance compared to Gradient Boosting Regressor and Random forest Regressor, possibly due to its sensitivity to noise or non-linear relationships introduced by the KNN imputer. Both Gradient Boosting Regressor and Random forest Regressor are robust to missing data and can handle imputed values."
   ]
  },
  {
   "cell_type": "markdown",
   "metadata": {},
   "source": [
    "## 4. Saving and Testing Model"
   ]
  },
  {
   "cell_type": "code",
   "execution_count": 37,
   "metadata": {},
   "outputs": [
    {
     "data": {
      "text/plain": [
       "['base_model.h5']"
      ]
     },
     "execution_count": 37,
     "metadata": {},
     "output_type": "execute_result"
    }
   ],
   "source": [
    "import joblib\n",
    "\n",
    "# Save the base model to an HDF5 file\n",
    "joblib.dump(gradient_model, 'base_model.h5')"
   ]
  },
  {
   "cell_type": "code",
   "execution_count": 38,
   "metadata": {},
   "outputs": [
    {
     "name": "stdout",
     "output_type": "stream",
     "text": [
      "[5.29207529e+08]\n"
     ]
    }
   ],
   "source": [
    "def test_model(data):\n",
    "    # we assume the data is cleaned\n",
    "    # To load the model in the future\n",
    "    loaded_model = joblib.load('./base_model.h5')\n",
    "    predictions = loaded_model.predict(data)\n",
    "\n",
    "    return predictions\n",
    "\n",
    "# Extract the last row of the test set\n",
    "last_row = X_test.iloc[[-1]]\n",
    "\n",
    "# Make predictions on the last row\n",
    "print(test_model(last_row))"
   ]
  },
  {
   "cell_type": "markdown",
   "metadata": {
    "id": "JSANkR1NH69n"
   },
   "source": [
    "## The cell below is **NOT** to be removed\n",
    "##### The function is to be amended so that it accepts the given input (dataframe) and returns the required output (list).\n",
    "##### It is recommended to test the function out prior to submission\n",
    "-------------------------------------------------------------------------------------------------------------------------------\n",
    "##### The hidden_data parsed into the function below will have the same layout columns wise as the dataset *SENT* to you\n",
    "##### Thus, ensure that steps taken to modify the initial dataset to fit into the model are also carried out in the function below"
   ]
  },
  {
   "cell_type": "code",
   "execution_count": 35,
   "metadata": {
    "id": "SWYN02b1H69n"
   },
   "outputs": [],
   "source": [
    "def testing_hidden_data(hidden_data: pd.DataFrame) -> list:\n",
    "    '''DO NOT REMOVE THIS FUNCTION.\n",
    "\n",
    "The function accepts a dataframe as input and return an iterable (list)\n",
    "of binary classes as output.\n",
    "\n",
    "The function should be coded to test on hidden data\n",
    "and should include any preprocessing functions needed for your model to perform. \n",
    "    \n",
    "All relevant code MUST be included in this function.'''\n",
    "    \n",
    "    df1 = hidden_data\n",
    "    \n",
    "    # Remove NA\n",
    "    df2 = df1.dropna(subset=[\"LATITUDE\", \"LONGITUDE\"])\n",
    "\n",
    "    # Impute with domain knowledge\n",
    "    condition_mask = df2['Is Domestic Ultimate'] == 1\n",
    "    df2.loc[condition_mask, 'Employees (Single Site)'] = df2.loc[condition_mask, 'Employees (Single Site)'].fillna(df2.loc[condition_mask, 'Employees (Domestic Ultimate Total)'])\n",
    "    df2 = df2.dropna(subset=['Employees (Single Site)'])\n",
    "\n",
    "    # Encode SIC\n",
    "    sic_code_frequency = df2['SIC Code'].value_counts()\n",
    "    threshold = 11\n",
    "    low_frequency_sic_codes = sic_code_frequency[sic_code_frequency < threshold].index\n",
    "    df2['SIC Code'] = df2['SIC Code'].replace(low_frequency_sic_codes, 'Others')\n",
    "    df2['SIC Code'] = df2['SIC Code'].astype(str)\n",
    "\n",
    "    from sklearn.preprocessing import LabelEncoder\n",
    "    label_encoder = LabelEncoder()\n",
    "    df2['SIC Code'] = label_encoder.fit_transform(df2['SIC Code'])\n",
    "\n",
    "    # Encode entity type \n",
    "    df2['Entity Type'] = label_encoder.fit_transform(df2['Entity Type'])\n",
    "\n",
    "    # Convert data type\n",
    "    df2['Is Domestic Ultimate'] = df2['Is Domestic Ultimate'] == 1\n",
    "    df2['Is Global Ultimate'] = df2['Is Global Ultimate'] == 1\n",
    "\n",
    "    # Clean Ownership Type\n",
    "    df2 = df2.drop(df2[df2['Ownership Type'] != \"Private\"].index)\n",
    "\n",
    "    # Artificial feature\n",
    "    df2['Import/Export Status_Missing'] = df2['Import/Export Status'].isna()\n",
    "\n",
    "    # Drop features\n",
    "    columns_to_drop = ['Entity Type','Ownership Type', \"Company Status (Active/Inactive)\",'Import/Export Status',\"error\", \"Fiscal Year End\", \"Global Ultimate Company\", \"Domestic Ultimate Company\", \"Web Address\", \"Square Footage\", \"Company Description\", \"PostCode\", \"8-Digit SIC Code\", \"8-Digit SIC Description\", \"AccountID\",\n",
    "                       \"Parent Company\", \"City\", \"Country\", \"Address\", \"Address1\", \"Industry\", \"Region\", \"Parent Country\", \"Global Ultimate Country\", \"Company\"]\n",
    "    df3 = df2.drop(columns=[col for col in columns_to_drop if col in df2.columns], errors='ignore')\n",
    "    \n",
    "    # KNN Imputer\n",
    "    from sklearn.impute import KNNImputer\n",
    "    imputer = KNNImputer(n_neighbors = 5)\n",
    "\n",
    "    df4 = imputer.fit_transform(df3)\n",
    "    \n",
    "    # Predict\n",
    "    result = gradient_model.predict(df4)\n",
    "\n",
    "    return result"
   ]
  },
  {
   "cell_type": "markdown",
   "metadata": {
    "id": "q_jYYoDAH69o"
   },
   "source": [
    "##### Cell to check testing_hidden_data function"
   ]
  },
  {
   "cell_type": "code",
   "execution_count": 36,
   "metadata": {
    "id": "VKijpdhGH69o"
   },
   "outputs": [
    {
     "name": "stderr",
     "output_type": "stream",
     "text": [
      "C:\\Users\\hucan\\Anaconda3\\lib\\site-packages\\pandas\\core\\indexing.py:965: SettingWithCopyWarning: \n",
      "A value is trying to be set on a copy of a slice from a DataFrame.\n",
      "Try using .loc[row_indexer,col_indexer] = value instead\n",
      "\n",
      "See the caveats in the documentation: https://pandas.pydata.org/pandas-docs/stable/user_guide/indexing.html#returning-a-view-versus-a-copy\n",
      "  self.obj[item] = s\n",
      "C:\\Users\\hucan\\Anaconda3\\lib\\site-packages\\sklearn\\base.py:451: UserWarning: X does not have valid feature names, but GradientBoostingRegressor was fitted with feature names\n",
      "  \"X does not have valid feature names, but\"\n"
     ]
    },
    {
     "name": "stdout",
     "output_type": "stream",
     "text": [
      "[ 4.16194357e+07  4.75594647e+09 -4.84639902e+07 ...  1.53922355e+08\n",
      "  3.26009098e+07  6.36118891e+07]\n"
     ]
    }
   ],
   "source": [
    "# This cell should output a list of predictions.\n",
    "test_df = pd.read_csv(filepath)\n",
    "test_df = test_df.drop(columns=['Sales (Domestic Ultimate Total USD)'])\n",
    "print(testing_hidden_data(test_df))"
   ]
  },
  {
   "cell_type": "markdown",
   "metadata": {
    "id": "RN3tPoR5H69p"
   },
   "source": [
    "### Please have the filename renamed and ensure that it can be run with the requirements above being met. All the best!"
   ]
  }
 ],
 "metadata": {
  "colab": {
   "provenance": []
  },
  "kernelspec": {
   "display_name": "Python 3",
   "language": "python",
   "name": "python3"
  },
  "language_info": {
   "codemirror_mode": {
    "name": "ipython",
    "version": 3
   },
   "file_extension": ".py",
   "mimetype": "text/x-python",
   "name": "python",
   "nbconvert_exporter": "python",
   "pygments_lexer": "ipython3",
   "version": "3.7.6"
  }
 },
 "nbformat": 4,
 "nbformat_minor": 1
}
